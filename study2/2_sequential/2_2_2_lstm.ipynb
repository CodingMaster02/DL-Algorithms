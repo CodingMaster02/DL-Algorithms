{
 "cells": [
  {
   "cell_type": "markdown",
   "metadata": {},
   "source": [
    "# 2-2. LSTM\n",
    "\n",
    "<img src=\"./img/lstm.png\" alt=\"lstm\" width=\"500\" align=\"left\"/>"
   ]
  },
  {
   "cell_type": "markdown",
   "metadata": {},
   "source": [
    "<img src=\"./img/song_lstm.png\" alt=\"song_lstm\" width=\"500\" align=\"left\"/>"
   ]
  },
  {
   "cell_type": "markdown",
   "metadata": {},
   "source": [
    "### 모듈 임포트\n",
    "\n",
    "- os (디렉토리 생성)\n",
    "- tensorflow (학습, 내부 케라스 모듈)\n",
    "- numpy (데이터 핸들링)"
   ]
  },
  {
   "cell_type": "code",
   "execution_count": null,
   "metadata": {},
   "outputs": [],
   "source": [
    "import os\n",
    "import tensorflow as tf\n",
    "import numpy as np"
   ]
  },
  {
   "cell_type": "markdown",
   "metadata": {},
   "source": [
    "### Logging Directory 설정"
   ]
  },
  {
   "cell_type": "code",
   "execution_count": null,
   "metadata": {},
   "outputs": [],
   "source": [
    "CKPT_DIR = \"../generated_output/LSTM\""
   ]
  },
  {
   "cell_type": "markdown",
   "metadata": {},
   "source": [
    "### Logging Directory 생성"
   ]
  },
  {
   "cell_type": "code",
   "execution_count": null,
   "metadata": {},
   "outputs": [],
   "source": [
    "if not os.path.exists(CKPT_DIR):\n",
    "    os.makedirs(CKPT_DIR)"
   ]
  },
  {
   "cell_type": "markdown",
   "metadata": {},
   "source": [
    "### 재현 위한 랜덤 시드 부여"
   ]
  },
  {
   "cell_type": "code",
   "execution_count": null,
   "metadata": {},
   "outputs": [],
   "source": [
    "np.random.seed(5)"
   ]
  },
  {
   "cell_type": "markdown",
   "metadata": {},
   "source": [
    "### '나비야' 악보 코드"
   ]
  },
  {
   "cell_type": "code",
   "execution_count": null,
   "metadata": {},
   "outputs": [],
   "source": [
    "seq = ['g8', 'e8', 'e4', 'f8', 'd8', 'd4', 'c8', 'd8', 'e8', 'f8', 'g8', 'g8', 'g4',\n",
    "       'g8', 'e8', 'e8', 'e8', 'f8', 'd8', 'd4', 'c8', 'e8', 'g8', 'g8', 'e8', 'e8', 'e4',\n",
    "       'd8', 'd8', 'd8', 'd8', 'd8', 'e8', 'f4', 'e8', 'e8', 'e8', 'e8', 'e8', 'f8', 'g4',\n",
    "       'g8', 'e8', 'e4', 'f8', 'd8', 'd4', 'c8', 'e8', 'g8', 'g8', 'e8', 'e8', 'e4']"
   ]
  },
  {
   "cell_type": "markdown",
   "metadata": {},
   "source": [
    "### 코드를 integer label로 인코딩 하는 매퍼 딕셔너리\n",
    "### label을 코드로 디코딩 하는 매퍼 딕셔너리"
   ]
  },
  {
   "cell_type": "code",
   "execution_count": null,
   "metadata": {},
   "outputs": [],
   "source": [
    "note2idx = {'c4':0, 'd4':1, 'e4':2, 'f4':3, 'g4':4, 'a4':5, 'b4':6,\n",
    "            'c8':7, 'd8':8, 'e8':9, 'f8':10, 'g8':11, 'a8':12, 'b8':13}\n",
    "\n",
    "idx2note = {0:'c4', 1:'d4', 2:'e4', 3:'f4', 4:'g4', 5:'a4', 6:'b4',\n",
    "            7:'c8', 8:'d8', 9:'e8', 10:'f8', 11:'g8', 12:'a8', 13:'b8'}\n",
    "\n",
    "note_num = 14"
   ]
  },
  {
   "cell_type": "markdown",
   "metadata": {},
   "source": [
    "### 데이터셋 생성 함수\n",
    "\n",
    "- window size만큼씩 옮겨 가면서 window size + 1개의 노트 수집 (feature + label)\n",
    "- 반복적으로 append하여 2차원 array로 변환"
   ]
  },
  {
   "cell_type": "code",
   "execution_count": null,
   "metadata": {},
   "outputs": [],
   "source": [
    "def seq2dataset(seq, window_size):\n",
    "    dataset = []\n",
    "    for i in range(len(seq)-window_size):\n",
    "        subset = seq[i:(i+window_size+1)]\n",
    "        dataset.append([note2idx[item] for item in subset])\n",
    "    return np.array(dataset)"
   ]
  },
  {
   "cell_type": "markdown",
   "metadata": {},
   "source": [
    "### 데이터셋 생성\n",
    "\n",
    "- 데이터: 나비야 코드, window size = 4\n",
    "- 5개씩 코드 수집하여 4개는 feature로 이용, 1개는 label로 이용"
   ]
  },
  {
   "cell_type": "code",
   "execution_count": null,
   "metadata": {},
   "outputs": [],
   "source": [
    "dataset = seq2dataset(seq, window_size = 4)"
   ]
  },
  {
   "cell_type": "markdown",
   "metadata": {},
   "source": [
    "### Feature, Label 추출\n",
    "\n",
    "- 데이터셋에서 4개 컬럼 추출하여 feature\n",
    "- 마지막 5번째 컬럼 추출하여 label\n",
    "- feature normalization\n",
    "- feature [-1, 4, 1] 형태로 변환 (keras LSTM 레이어 요구조건)\n",
    "    - batch size * cell * feature 꼴\n",
    "- label one-hot encoding"
   ]
  },
  {
   "cell_type": "code",
   "execution_count": null,
   "metadata": {},
   "outputs": [],
   "source": [
    "x_train = dataset[:,0:4]\n",
    "y_train = dataset[:,4]\n",
    "max_idx_value = 13\n",
    "x_train = x_train / float(max_idx_value)\n",
    "x_train = x_train.reshape([-1, 4, 1])"
   ]
  },
  {
   "cell_type": "markdown",
   "metadata": {},
   "source": [
    "### Network 설계\n",
    "\n",
    "[1, 4, 1]\n",
    "$\\rightarrow$ Stateful LSTM(4, 1, 128) $\\rightarrow$ [1, 128]  \n",
    "$\\rightarrow$ Dense(128, 14) $\\rightarrow$ softmax $\\rightarrow$ [1, 14]  "
   ]
  },
  {
   "cell_type": "code",
   "execution_count": null,
   "metadata": {},
   "outputs": [],
   "source": [
    "model = tf.keras.Sequential()\n",
    "model.add(tf.keras.layers.LSTM(128, batch_input_shape = (1, 4, 1), stateful=True))\n",
    "model.add(tf.keras.layers.Dense(note_num, activation='softmax'))"
   ]
  },
  {
   "cell_type": "markdown",
   "metadata": {},
   "source": [
    "### Model 컴파일\n",
    "\n",
    "- loss function: sparse categorical crossentropy\n",
    "    - 레이블에 one-hot encoding 하지 않아도 됨\n",
    "- optimizer: ADAM optimizer\n",
    "- metrics: 학습간 로그에 표시할 메트릭"
   ]
  },
  {
   "cell_type": "code",
   "execution_count": null,
   "metadata": {},
   "outputs": [],
   "source": [
    "model.compile(loss='sparse_categorical_crossentropy', optimizer='adam', metrics=['accuracy'])"
   ]
  },
  {
   "cell_type": "markdown",
   "metadata": {},
   "source": [
    "### 학습\n",
    "\n",
    "- 전체 데이터 1500회 이용\n",
    "- 1개 샘플씩 학습\n",
    "- stateful LSTM\n",
    "    - batch 1짜리 LSTM학습을 모델 외부에서 반복하여 학습하는 형태로 구현\n",
    "    - reset_states()를 콜하지 않는 이상 state가 계속 유지\n",
    "    - 연속적인 데이터 전체를 기억할 때 이용\n",
    "    - state핸들링하기가 어려워, 데이터 경향성 학습에는 stateless lstm이 유리\n",
    "- stateful LSTM에서 주의할 점\n",
    "    - stateless LSTM과는 달리, batch간 연속성이 중요\n",
    "    - batch size: 1\n",
    "        - batch size가 1이 아닐 경우 다음에 이어지는 데이터가 batch로 들어와 연속성 붕괴\n",
    "    - shuffle: false\n",
    "        - shuffling 진행할 경우 batch간 연속성 붕괴 "
   ]
  },
  {
   "cell_type": "code",
   "execution_count": null,
   "metadata": {},
   "outputs": [],
   "source": [
    "num_epochs = 1500\n",
    "\n",
    "for epoch_idx in range(num_epochs):\n",
    "    print ('epochs : ' + str(epoch_idx) )\n",
    "    model.fit(\n",
    "        x_train, y_train, epochs=1, batch_size=1, verbose=2, shuffle=False)\n",
    "    model.reset_states()"
   ]
  },
  {
   "cell_type": "markdown",
   "metadata": {},
   "source": [
    "### 평가"
   ]
  },
  {
   "cell_type": "code",
   "execution_count": null,
   "metadata": {},
   "outputs": [],
   "source": [
    "scores = model.evaluate(x_train, y_train, batch_size=1)\n",
    "print(\"%s: %.2f%%\" %(model.metrics_names[1], scores[1]*100))\n",
    "model.reset_states()"
   ]
  },
  {
   "cell_type": "markdown",
   "metadata": {},
   "source": [
    "### One step Prediction\n",
    "\n",
    "<img src=\"./img/one_step.png\" alt=\"one_step\" width=\"500\" align=\"left\"/>"
   ]
  },
  {
   "cell_type": "code",
   "execution_count": null,
   "metadata": {},
   "outputs": [],
   "source": [
    "pred_count = 50\n",
    "\n",
    "note_onestep = ['g8', 'e8', 'e4', 'f8']\n",
    "# 결과 리스트 초기 4개 레이블로 초기화\n",
    "\n",
    "pred_out = model.predict(x_train, batch_size=1)\n",
    "# x_train 전체 데이터로 prediction 진행\n",
    "\n",
    "for i in range(pred_count):\n",
    "    \n",
    "    idx = np.argmax(pred_out[i])\n",
    "    # one-hot encoding된 상태로 나온 prediction 자연수 레이블로 변환\n",
    "        \n",
    "    note_onestep.append(idx2note[idx])\n",
    "    # 레이블 코드로 변환하여 결과 리스트에 추가\n",
    "    \n",
    "model.reset_states()\n",
    "# LSTM state 초기화"
   ]
  },
  {
   "cell_type": "markdown",
   "metadata": {},
   "source": [
    "### Full song Prediction\n",
    "\n",
    "<img src=\"./img/full_song.png\" alt=\"full_song\" width=\"500\" align=\"left\"/>"
   ]
  },
  {
   "cell_type": "code",
   "execution_count": null,
   "metadata": {},
   "outputs": [],
   "source": [
    "seq_in = ['g8', 'e8', 'e4', 'f8']\n",
    "# 초기 4개 인풋값 리스트 설정\n",
    "\n",
    "note_fullsong = seq_in\n",
    "# 결과 리스트 초기 4개 레이블로 초기화\n",
    "\n",
    "seq_in = [note2idx[it] / float(max_idx_value) for it in seq_in]\n",
    "# 초기 4개 인풋값 Network에 투입 가능한 형태로 전처리\n",
    "\n",
    "for i in range(pred_count):\n",
    "    \n",
    "    sample_in = np.array(seq_in)\n",
    "    # input array 인풋 리스트값으로 초기화\n",
    "    \n",
    "    sample_in = np.reshape(sample_in, (1, 4, 1))\n",
    "    # (4,)형태의 input array를 (1, 4, 1)형태로 변환\n",
    "    \n",
    "    pred_out = model.predict(sample_in)\n",
    "    # 1개 batch (4개 코드에 대한 결과) prediction\n",
    "    \n",
    "    idx = np.argmax(pred_out)\n",
    "    # one-hot encoding된 상태로 나온 prediction 자연수 레이블로 변환\n",
    "    \n",
    "    note_fullsong.append(idx2note[idx])\n",
    "    # 레이블 코드로 변환하여 결과 리스트에 추가\n",
    "    \n",
    "    seq_in.append(idx / float(max_idx_value))\n",
    "    # 인풋 리스트에 prediction 결과 전처리하여 추가\n",
    "    \n",
    "    seq_in.pop(0)\n",
    "    # 인풋 리스트에서 맨 앞의 값 제거\n",
    "    \n",
    "model.reset_states()\n",
    "# LSTM state 초기화"
   ]
  },
  {
   "cell_type": "markdown",
   "metadata": {},
   "source": [
    "### Prediction 결과\n",
    "\n",
    "<img src=\"./img/song.png\" alt=\"lstm_result\" width=\"500\" align=\"left\"/>"
   ]
  },
  {
   "cell_type": "code",
   "execution_count": null,
   "metadata": {},
   "outputs": [],
   "source": [
    "print(\"one step prediction : \", note_onestep)\n",
    "print(\"full song prediction : \", note_fullsong)"
   ]
  },
  {
   "cell_type": "markdown",
   "metadata": {},
   "source": [
    "### 코드 MIDI파일로 컴파일하여 저장"
   ]
  },
  {
   "cell_type": "code",
   "execution_count": null,
   "metadata": {},
   "outputs": [],
   "source": [
    "import music21 as m21\n",
    "\n",
    "def writeMIDI(key,instr,bpm,notes,fname):\n",
    "\n",
    "    # start stream\n",
    "    stream = m21.stream.Stream()\n",
    "\n",
    "    # Add tempo to stream\n",
    "    bpm = m21.tempo.MetronomeMark(number = bpm)\n",
    "    stream.append(bpm)\n",
    "\n",
    "    # Add key to stream\n",
    "    k = m21.key.Key(key)\n",
    "    stream.append(k)\n",
    "\n",
    "    # Add instrument\n",
    "    ins = m21.instrument.fromString(instr)\n",
    "    stream.append(ins)\n",
    "\n",
    "    # Add notes to stream at different offsets\n",
    "    for tup in notes:\n",
    "        note = m21.note.Note(tup[0])\n",
    "        offset = tup[1]\n",
    "        note.quarterLength = tup[2]\n",
    "        note.volume.velocity = tup[3]\n",
    "        stream.insert(offset,note)\n",
    "\n",
    "    # convert stream to midi and write out\n",
    "    mf = m21.midi.translate.streamToMidiFile(stream)\n",
    "    mf.open(fname+'.mid', 'wb')\n",
    "    mf.write()"
   ]
  },
  {
   "cell_type": "code",
   "execution_count": null,
   "metadata": {},
   "outputs": [],
   "source": [
    "def note2midi(notes, num):\n",
    "    n = []\n",
    "    global start\n",
    "    start = 0\n",
    "    for i in range(len(notes)):\n",
    "        timing = int(8/int(notes[i][1]))\n",
    "        if timing == 1: n.append((notes[i][0]+'5',start+i,1,120))\n",
    "        else :\n",
    "            n.append((notes[i][0]+'5',start+i,1*timing,120))\n",
    "            start += 1\n",
    "        if not os.path.exists(CKPT_DIR+'/Midi'):\n",
    "            os.makedirs(CKPT_DIR+'/Midi')\n",
    "        writeMIDI('C','piano', 130, n, (CKPT_DIR+'/Midi/LSTM_result_%d' % num))\n",
    "        \n",
    "    return print(\"MLP result_%d export complete!\" % num)\n",
    "\n",
    "\n",
    "note2midi(note_onestep, 1)\n",
    "note2midi(note_fullsong, 2)"
   ]
  },
  {
   "cell_type": "markdown",
   "metadata": {},
   "source": [
    "[MIDI 재생 사이트 링크](https://onlinesequencer.net/import)"
   ]
  }
 ],
 "metadata": {
  "kernelspec": {
   "display_name": "Python 3",
   "language": "python",
   "name": "python3"
  },
  "language_info": {
   "codemirror_mode": {
    "name": "ipython",
    "version": 3
   },
   "file_extension": ".py",
   "mimetype": "text/x-python",
   "name": "python",
   "nbconvert_exporter": "python",
   "pygments_lexer": "ipython3",
   "version": "3.6.5"
  },
  "varInspector": {
   "cols": {
    "lenName": 16,
    "lenType": 16,
    "lenVar": 40
   },
   "kernels_config": {
    "python": {
     "delete_cmd_postfix": "",
     "delete_cmd_prefix": "del ",
     "library": "var_list.py",
     "varRefreshCmd": "print(var_dic_list())"
    },
    "r": {
     "delete_cmd_postfix": ") ",
     "delete_cmd_prefix": "rm(",
     "library": "var_list.r",
     "varRefreshCmd": "cat(var_dic_list()) "
    }
   },
   "types_to_exclude": [
    "module",
    "function",
    "builtin_function_or_method",
    "instance",
    "_Feature"
   ],
   "window_display": false
  }
 },
 "nbformat": 4,
 "nbformat_minor": 2
}
