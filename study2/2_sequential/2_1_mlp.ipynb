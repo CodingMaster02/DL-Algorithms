{
 "cells": [
  {
   "cell_type": "markdown",
   "metadata": {},
   "source": [
    "# 2-1. MLP (나비야 음계 학습)\n",
    "\n",
    "<img src=\"./img/song.png\" alt=\"song\" width=\"450\" align=\"left\"/>\n",
    "<img src=\"./img/song_mlp.png\" alt=\"song_mlp\" width=\"450\" align=\"left\"/>"
   ]
  },
  {
   "cell_type": "markdown",
   "metadata": {},
   "source": [
    "### 모듈 임포트\n",
    "\n",
    "- os (디렉토리 생성)\n",
    "- tensorflow (텐서보드)\n",
    "- keras (학습)\n",
    "- keras.models.Sequential (네트워크 설계)\n",
    "- keras.layers.Dense (레이어)\n",
    "- keras.utils.np_utils (one-hot encoding)\n",
    "- numpy (데이터 핸들링)"
   ]
  },
  {
   "cell_type": "code",
   "execution_count": null,
   "metadata": {},
   "outputs": [],
   "source": [
    "import os\n",
    "import tensorflow as tf\n",
    "import keras\n",
    "from keras.models import Sequential\n",
    "from keras.layers import Dense\n",
    "from keras.utils import np_utils\n",
    "import numpy as np"
   ]
  },
  {
   "cell_type": "markdown",
   "metadata": {},
   "source": [
    "### Logging Directory 설정"
   ]
  },
  {
   "cell_type": "code",
   "execution_count": null,
   "metadata": {},
   "outputs": [],
   "source": [
    "CKPT_DIR = \"../generated_output/MLP\""
   ]
  },
  {
   "cell_type": "markdown",
   "metadata": {},
   "source": [
    "### Logging Directory 생성"
   ]
  },
  {
   "cell_type": "code",
   "execution_count": null,
   "metadata": {},
   "outputs": [],
   "source": [
    "if not os.path.exists(CKPT_DIR):\n",
    "    os.makedirs(CKPT_DIR)"
   ]
  },
  {
   "cell_type": "markdown",
   "metadata": {},
   "source": [
    "### 재현 위한 랜덤 시드 부여"
   ]
  },
  {
   "cell_type": "code",
   "execution_count": null,
   "metadata": {},
   "outputs": [],
   "source": [
    "np.random.seed(5)"
   ]
  },
  {
   "cell_type": "markdown",
   "metadata": {},
   "source": [
    "### '나비야' 악보 코드"
   ]
  },
  {
   "cell_type": "code",
   "execution_count": null,
   "metadata": {},
   "outputs": [],
   "source": [
    "seq = ['g8', 'e8', 'e4', 'f8', 'd8', 'd4', 'c8', 'd8', 'e8', 'f8', 'g8', 'g8', 'g4',\n",
    "       'g8', 'e8', 'e8', 'e8', 'f8', 'd8', 'd4', 'c8', 'e8', 'g8', 'g8', 'e8', 'e8', 'e4',\n",
    "       'd8', 'd8', 'd8', 'd8', 'd8', 'e8', 'f4', 'e8', 'e8', 'e8', 'e8', 'e8', 'f8', 'g4',\n",
    "       'g8', 'e8', 'e4', 'f8', 'd8', 'd4', 'c8', 'e8', 'g8', 'g8', 'e8', 'e8', 'e4']"
   ]
  },
  {
   "cell_type": "markdown",
   "metadata": {},
   "source": [
    "### 코드를 integer label로 인코딩 하는 매퍼 딕셔너리\n",
    "### label을 코드로 디코딩 하는 매퍼 딕셔너리"
   ]
  },
  {
   "cell_type": "code",
   "execution_count": null,
   "metadata": {},
   "outputs": [],
   "source": [
    "note2idx = {'c4':0, 'd4':1, 'e4':2, 'f4':3, 'g4':4, 'a4':5, 'b4':6,\n",
    "            'c8':7, 'd8':8, 'e8':9, 'f8':10, 'g8':11, 'a8':12, 'b8':13}\n",
    "\n",
    "idx2note = {0:'c4', 1:'d4', 2:'e4', 3:'f4', 4:'g4', 5:'a4', 6:'b4',\n",
    "            7:'c8', 8:'d8', 9:'e8', 10:'f8', 11:'g8', 12:'a8', 13:'b8'}"
   ]
  },
  {
   "cell_type": "markdown",
   "metadata": {},
   "source": [
    "### 데이터셋 생성 함수\n",
    "\n",
    "- window size만큼씩 옮겨 가면서 window size + 1개의 노트 수집 (feature + label)\n",
    "- 반복적으로 append하여 2차원 array로 변환"
   ]
  },
  {
   "cell_type": "code",
   "execution_count": null,
   "metadata": {},
   "outputs": [],
   "source": [
    "def seq2dataset(seq, window_size):\n",
    "    dataset = []\n",
    "    for i in range(len(seq)-window_size):\n",
    "        subset = seq[i:(i+window_size+1)]\n",
    "        dataset.append([note2idx[item] for item in subset])\n",
    "    return np.array(dataset)"
   ]
  },
  {
   "cell_type": "markdown",
   "metadata": {},
   "source": [
    "### 데이터셋 생성\n",
    "\n",
    "- 데이터: 나비야 코드, window size = 4\n",
    "- 5개씩 코드 수집하여 4개는 feature로 이용, 1개는 label로 이용"
   ]
  },
  {
   "cell_type": "code",
   "execution_count": null,
   "metadata": {},
   "outputs": [],
   "source": [
    "dataset = seq2dataset(seq, window_size = 4)"
   ]
  },
  {
   "cell_type": "markdown",
   "metadata": {},
   "source": [
    "### Feature, Label 추출\n",
    "\n",
    "- 데이터셋에서 4개 컬럼 추출하여 feature\n",
    "- 마지막 5번째 컬럼 추출하여 label\n",
    "- feature normalization\n",
    "- label one-hot encoding"
   ]
  },
  {
   "cell_type": "code",
   "execution_count": null,
   "metadata": {},
   "outputs": [],
   "source": [
    "x_train = dataset[:,0:4]\n",
    "y_train = dataset[:,4]\n",
    "max_idx_value = 13\n",
    "x_train = x_train / float(max_idx_value)\n",
    "y_train = np_utils.to_categorical(y_train)\n",
    "one_hot_vec_size = y_train.shape[1]"
   ]
  },
  {
   "cell_type": "markdown",
   "metadata": {},
   "source": [
    "### Network 설계\n",
    "\n",
    "[batch_size, 4]\n",
    "$\\rightarrow$ Dense(4, 128) $\\rightarrow$ relu $\\rightarrow$ [batch_size, 128]  \n",
    "$\\rightarrow$ Dense(128, 128) $\\rightarrow$ relu $\\rightarrow$ [batch_size, 128]  \n",
    "$\\rightarrow$ Dense(128, 14) $\\rightarrow$ softmax $\\rightarrow$ [batch_size, 14]  "
   ]
  },
  {
   "cell_type": "code",
   "execution_count": null,
   "metadata": {},
   "outputs": [],
   "source": [
    "model = Sequential()\n",
    "model.add(Dense(128, input_dim=4, activation='relu'))\n",
    "model.add(Dense(128, activation='relu'))\n",
    "model.add(Dense(one_hot_vec_size, activation='softmax'))"
   ]
  },
  {
   "cell_type": "markdown",
   "metadata": {},
   "source": [
    "### Model 컴파일\n",
    "\n",
    "- loss function: categorical crossentropy\n",
    "    - one-hot encoding 적용하지 않고 sparse categorical crossentropy를 써도 됨\n",
    "- optimizer: ADAM optimizer\n",
    "- metrics: 학습간 로그에 표시할 메트릭"
   ]
  },
  {
   "cell_type": "code",
   "execution_count": null,
   "metadata": {},
   "outputs": [],
   "source": [
    "model.compile(loss='categorical_crossentropy', optimizer='adam', metrics=['accuracy'])"
   ]
  },
  {
   "cell_type": "markdown",
   "metadata": {},
   "source": [
    "### 학습간 적용할 Callback 정의\n",
    "\n",
    "- tensorboard logging 위한 콜백 정의"
   ]
  },
  {
   "cell_type": "code",
   "execution_count": null,
   "metadata": {},
   "outputs": [],
   "source": [
    "tb_callback = tf.keras.callbacks.TensorBoard(\n",
    "    log_dir=CKPT_DIR+'/Graph', histogram_freq=0, write_graph=True, write_images=True)"
   ]
  },
  {
   "cell_type": "markdown",
   "metadata": {},
   "source": [
    "### 학습\n",
    "\n",
    "- 전체 데이터 1000회 이용\n",
    "- 10개 샘플씩 학습"
   ]
  },
  {
   "cell_type": "code",
   "execution_count": null,
   "metadata": {},
   "outputs": [],
   "source": [
    "model.fit(x_train, y_train, epochs=1000, batch_size=10, verbose=1, callbacks=[tb_callback])"
   ]
  },
  {
   "cell_type": "markdown",
   "metadata": {},
   "source": [
    "### 평가"
   ]
  },
  {
   "cell_type": "code",
   "execution_count": null,
   "metadata": {},
   "outputs": [],
   "source": [
    "scores = model.evaluate(x_train, y_train)\n",
    "print(\"%s: %.2f%%\" %(model.metrics_names[1], scores[1]*100))"
   ]
  },
  {
   "cell_type": "markdown",
   "metadata": {},
   "source": [
    "### One step Prediction\n",
    "\n",
    "<img src=\"./img/one_step.png\" alt=\"one_step\" width=\"500\" align=\"left\"/>"
   ]
  },
  {
   "cell_type": "code",
   "execution_count": null,
   "metadata": {},
   "outputs": [],
   "source": [
    "pred_count = 50\n",
    "\n",
    "note_onestep = ['g8', 'e8', 'e4', 'f8']\n",
    "# 결과 리스트 초기 4개 레이블로 초기화\n",
    "\n",
    "pred_out = model.predict(x_train)\n",
    "# x_train 전체 데이터로 prediction 진행\n",
    "\n",
    "for i in range(pred_count):\n",
    "    \n",
    "    idx = np.argmax(pred_out[i])\n",
    "    # one-hot encoding된 상태로 나온 prediction 자연수 레이블로 변환\n",
    "    \n",
    "    note_onestep.append(idx2note[idx])\n",
    "    # 레이블 코드로 변환하여 결과 리스트에 추가"
   ]
  },
  {
   "cell_type": "markdown",
   "metadata": {},
   "source": [
    "### Full song Prediction\n",
    "\n",
    "<img src=\"./img/full_song.png\" alt=\"full_song\" width=\"500\" align=\"left\"/>"
   ]
  },
  {
   "cell_type": "code",
   "execution_count": null,
   "metadata": {},
   "outputs": [],
   "source": [
    "seq_in = ['g8', 'e8', 'e4', 'f8']\n",
    "# 초기 4개 인풋값 리스트 설정\n",
    "\n",
    "note_fullsong = seq_in\n",
    "# 결과 리스트 초기 4개 레이블로 초기화\n",
    "\n",
    "seq_in = [note2idx[it] / float(max_idx_value) for it in seq_in]\n",
    "# 초기 4개 인풋값 Network에 투입 가능한 형태로 전처리\n",
    "\n",
    "for i in range(pred_count):\n",
    "    \n",
    "    sample_in = np.array(seq_in)\n",
    "    # input array 인풋 리스트값으로 초기화\n",
    "    \n",
    "    sample_in = np.reshape(sample_in, (1, 4))\n",
    "    # (4,)형태의 input array를 (1, 4)형태로 변환\n",
    "    \n",
    "    pred_out = model.predict(sample_in)\n",
    "    # 1개 batch (4개 코드에 대한 결과) prediction\n",
    "    \n",
    "    idx = np.argmax(pred_out)\n",
    "    # one-hot encoding된 상태로 나온 prediction 자연수 레이블로 변환\n",
    "    \n",
    "    note_fullsong.append(idx2note[idx])\n",
    "    # 레이블 코드로 변환하여 결과 리스트에 추가\n",
    "    \n",
    "    seq_in.append(idx / float(max_idx_value))\n",
    "    # 인풋 리스트에 prediction 결과 전처리하여 추가\n",
    "    \n",
    "    seq_in.pop(0)\n",
    "    # 인풋 리스트에서 맨 앞의 값 제거"
   ]
  },
  {
   "cell_type": "markdown",
   "metadata": {},
   "source": [
    "### Prediction 결과\n",
    "\n",
    "<img src=\"./img/mlp_result.png\" alt=\"mlp_result\" width=\"500\" align=\"left\"/>"
   ]
  },
  {
   "cell_type": "code",
   "execution_count": null,
   "metadata": {},
   "outputs": [],
   "source": [
    "print(\"one step prediction : \", note_onestep)\n",
    "print(\"full song prediction : \", note_fullsong)"
   ]
  },
  {
   "cell_type": "markdown",
   "metadata": {},
   "source": [
    "### 코드 MIDI파일로 컴파일하여 저장"
   ]
  },
  {
   "cell_type": "code",
   "execution_count": null,
   "metadata": {},
   "outputs": [],
   "source": [
    "import music21 as m21\n",
    "from writeMIDI import writeMIDI\n",
    "\n",
    "def note2midi(notes, num):    # input : seq_out\n",
    "    n = []\n",
    "    global start\n",
    "    start = 0    # 맨 첫 note의 시작 위치\n",
    "    for i in range(len(notes)):\n",
    "        #print(notes[i][0], notes[i][1])\n",
    "        timing = int(8/int(notes[i][1]))\n",
    "        \n",
    "        if timing == 1: n.append((notes[i][0]+'5',start+i,1,120))\n",
    "        else :\n",
    "            n.append((notes[i][0]+'5',start+i,1*timing,120))\n",
    "            start += 1\n",
    "        \n",
    "        # Output MIDI (Root, Inst., BPM, Notes, File_name)\n",
    "        if not os.path.exists(CKPT_DIR+'/Midi'):\n",
    "            os.makedirs(CKPT_DIR+'/Midi')\n",
    "        writeMIDI('C','piano', 130, n, (CKPT_DIR+'/Midi/MLP_result_%d' % num))\n",
    "        \n",
    "    return print(\"MLP result_%d export complete!\" % num)\n",
    "\n",
    "\n",
    "note2midi(note_onestep, 1)\n",
    "note2midi(note_fullsong, 2)"
   ]
  },
  {
   "cell_type": "markdown",
   "metadata": {},
   "source": [
    "[MIDI 재생 사이트 링크](https://onlinesequencer.net/import)"
   ]
  }
 ],
 "metadata": {
  "kernelspec": {
   "display_name": "Python 3",
   "language": "python",
   "name": "python3"
  },
  "language_info": {
   "codemirror_mode": {
    "name": "ipython",
    "version": 3
   },
   "file_extension": ".py",
   "mimetype": "text/x-python",
   "name": "python",
   "nbconvert_exporter": "python",
   "pygments_lexer": "ipython3",
   "version": "3.6.5"
  }
 },
 "nbformat": 4,
 "nbformat_minor": 2
}
