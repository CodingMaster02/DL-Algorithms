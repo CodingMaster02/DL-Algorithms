{
 "cells": [
  {
   "cell_type": "code",
   "execution_count": null,
   "metadata": {
    "collapsed": true
   },
   "outputs": [],
   "source": [
    "import tensorflow as tf\n",
    "import numpy as np\n",
    "from matplotlib import pyplot as plt"
   ]
  },
  {
   "cell_type": "markdown",
   "metadata": {},
   "source": [
    "### Initialization and Activation function"
   ]
  },
  {
   "cell_type": "code",
   "execution_count": null,
   "metadata": {},
   "outputs": [],
   "source": [
    "with tf.variable_scope('ex', reuse=tf.AUTO_REUSE):\n",
    "    w1 = tf.get_variable('w1', shape=[10,3], initializer=tf.initializers.zeros())\n",
    "    w2 = tf.get_variable('w2', shape=[10,3], initializer=tf.initializers.ones())\n",
    "    w3 = tf.get_variable('w3', shape=[10,3], initializer=tf.initializers.random_normal())\n",
    "    w4 = tf.get_variable('w4', shape=[10,3], initializer=tf.initializers.truncated_normal())\n",
    "    w5 = tf.get_variable('w5', shape=[10,3], initializer=tf.initializers.glorot_normal())\n",
    "    w6 = tf.get_variable('w6', shape=[10,3], initializer=tf.initializers.he_normal())\n",
    "    \n",
    "    a1 = tf.nn.sigmoid(w3)\n",
    "    a2 = tf.nn.softmax(w3)\n",
    "    a3 = tf.nn.relu(w3)\n",
    "    a4 = tf.nn.leaky_relu(w3)\n",
    "    a5 = tf.nn.elu(w3)"
   ]
  },
  {
   "cell_type": "code",
   "execution_count": null,
   "metadata": {
    "collapsed": true
   },
   "outputs": [],
   "source": [
    "with tf.Session() as sess:\n",
    "    sess.run(tf.global_variables_initializer())\n",
    "    w_1, w_2, w_3, w_4, w_5, w_6 = sess.run([w1, w2, w3, w4, w5, w6])\n",
    "    a_1, a_2, a_3, a_4, a_5 = sess.run([a1, a2, a3, a4, a5])"
   ]
  },
  {
   "cell_type": "markdown",
   "metadata": {},
   "source": [
    "#### tf.initializers.zeros()"
   ]
  },
  {
   "cell_type": "code",
   "execution_count": null,
   "metadata": {},
   "outputs": [],
   "source": [
    "print(w_1)"
   ]
  },
  {
   "cell_type": "markdown",
   "metadata": {},
   "source": [
    "#### tf.initializers.ones()"
   ]
  },
  {
   "cell_type": "code",
   "execution_count": null,
   "metadata": {},
   "outputs": [],
   "source": [
    "print(w_2)"
   ]
  },
  {
   "cell_type": "markdown",
   "metadata": {},
   "source": [
    "#### tf.initializers.random_normal()"
   ]
  },
  {
   "cell_type": "code",
   "execution_count": null,
   "metadata": {},
   "outputs": [],
   "source": [
    "print(w_3)\n",
    "print(np.std(w_3))"
   ]
  },
  {
   "cell_type": "markdown",
   "metadata": {},
   "source": [
    "#### tf.initializers.truncated_normal()\n",
    "> random normal에서 mean으로부터 stddev의 2배 이상 큰 값들은 제거하고 재생성"
   ]
  },
  {
   "cell_type": "code",
   "execution_count": null,
   "metadata": {},
   "outputs": [],
   "source": [
    "print(w_4)\n",
    "print(np.std(w_4))"
   ]
  },
  {
   "cell_type": "markdown",
   "metadata": {},
   "source": [
    "#### tf.initializers.glorot_normal()\n",
    "> tf.random_normal(shape=[shape], stddev=tf.sqrt(2. / (shape[0] + shape[1])))"
   ]
  },
  {
   "cell_type": "code",
   "execution_count": null,
   "metadata": {},
   "outputs": [],
   "source": [
    "print(w_5)\n",
    "print(np.std(w_5))"
   ]
  },
  {
   "cell_type": "markdown",
   "metadata": {},
   "source": [
    "#### tf.initializers.he_normal()\n",
    "> tf.random_normal(shape=[shape], stddev=tf.sqrt(2. / shape[0]))"
   ]
  },
  {
   "cell_type": "code",
   "execution_count": null,
   "metadata": {},
   "outputs": [],
   "source": [
    "print(w_6)\n",
    "print(np.std(w_6))"
   ]
  },
  {
   "cell_type": "markdown",
   "metadata": {},
   "source": [
    "####  tf.nn.sigmoid()"
   ]
  },
  {
   "cell_type": "code",
   "execution_count": null,
   "metadata": {},
   "outputs": [],
   "source": [
    "print(w_3)\n",
    "print(a_1)\n",
    "plt.plot(w_3, a_1, 'ro')\n",
    "plt.show()"
   ]
  },
  {
   "cell_type": "markdown",
   "metadata": {},
   "source": [
    "####  tf.nn.softmax()"
   ]
  },
  {
   "cell_type": "code",
   "execution_count": null,
   "metadata": {},
   "outputs": [],
   "source": [
    "print(w_3)\n",
    "print(a_2)\n",
    "print(np.sum(a_2, axis=1))"
   ]
  },
  {
   "cell_type": "markdown",
   "metadata": {},
   "source": [
    "####  tf.nn.relu()"
   ]
  },
  {
   "cell_type": "code",
   "execution_count": null,
   "metadata": {},
   "outputs": [],
   "source": [
    "print(w_3)\n",
    "print(a_3)\n",
    "plt.plot(w_3, a_3, 'ro')\n",
    "plt.show()"
   ]
  },
  {
   "cell_type": "markdown",
   "metadata": {},
   "source": [
    "####  tf.nn.leaky_relu()"
   ]
  },
  {
   "cell_type": "code",
   "execution_count": null,
   "metadata": {},
   "outputs": [],
   "source": [
    "print(w_3)\n",
    "print(a_4)\n",
    "plt.plot(w_3, a_4, 'ro')\n",
    "plt.show()"
   ]
  },
  {
   "cell_type": "markdown",
   "metadata": {},
   "source": [
    "####  tf.nn.elu()"
   ]
  },
  {
   "cell_type": "code",
   "execution_count": null,
   "metadata": {},
   "outputs": [],
   "source": [
    "print(w_3)\n",
    "print(a_5)\n",
    "plt.plot(w_3, a_5, 'ro')\n",
    "plt.show()"
   ]
  },
  {
   "cell_type": "code",
   "execution_count": null,
   "metadata": {
    "collapsed": true
   },
   "outputs": [],
   "source": []
  }
 ],
 "metadata": {
  "kernelspec": {
   "display_name": "Python 3",
   "language": "python",
   "name": "python3"
  },
  "language_info": {
   "codemirror_mode": {
    "name": "ipython",
    "version": 3
   },
   "file_extension": ".py",
   "mimetype": "text/x-python",
   "name": "python",
   "nbconvert_exporter": "python",
   "pygments_lexer": "ipython3",
   "version": "3.5.2"
  }
 },
 "nbformat": 4,
 "nbformat_minor": 2
}
