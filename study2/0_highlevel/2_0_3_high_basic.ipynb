{
 "cells": [
  {
   "cell_type": "markdown",
   "metadata": {},
   "source": [
    "### Layers\n",
    "\n",
    "tf.layers (tf.keras.layers)  \n",
    "(2.0부터 tf.keras.layers를 쓰는 것을 권장)\n",
    "\n",
    "#### Class\n",
    "tf.layers.Flatten  \n",
    "tf.layers.Dense  \n",
    "tf.layers.Conv2D  \n",
    "tf.layers.MaxPooling2D  \n",
    "tf.layers.BatchNormalization  \n",
    "\n",
    "#### Function (최근 deprecated)\n",
    "tf.layers.flatten()  \n",
    "tf.layers.dense()  \n",
    "tf.layers.conv2d()  \n",
    "tf.layers.max_pooling2d()  \n",
    "tf.layers.batch_normalization()  "
   ]
  },
  {
   "cell_type": "markdown",
   "metadata": {},
   "source": [
    "#### variable을 이용한 layer 구현\n",
    "weight와 bias 변수 텐서를 각각 구현한 뒤, 이를 통하여 계산식을 만들어 layer 구현"
   ]
  },
  {
   "cell_type": "code",
   "execution_count": null,
   "metadata": {
    "collapsed": true
   },
   "outputs": [],
   "source": [
    "import tensorflow as tf\n",
    "tf.reset_default_graph()\n",
    "features = tf.constant([[1.,2.,3.],\n",
    "                        [2.,3.,4.],\n",
    "                        [3.,4.,5.]])\n",
    "\n",
    "with tf.variable_scope('dense_1', reuse=tf.AUTO_REUSE):\n",
    "    weight = tf.get_variable('weight', shape=(3,2), dtype=tf.float32, initializer=tf.initializers.ones())\n",
    "    bias = tf.get_variable('bias', shape=(2,), dtype=tf.float32, initializer=tf.initializers.zeros())\n",
    "    dense_1 = tf.add(tf.matmul(features, weight), bias)\n",
    "    dense_1 = tf.nn.sigmoid(dense_1)\n",
    "    \n",
    "with tf.Session() as sess:\n",
    "    sess.run(tf.global_variables_initializer())\n",
    "    print(sess.run(dense_1))\n",
    "    \n",
    "print(tf.get_collection(tf.GraphKeys.TRAINABLE_VARIABLES, scope='dense_1'))"
   ]
  },
  {
   "cell_type": "markdown",
   "metadata": {},
   "source": [
    "#### tf.keras.layers.Class 를 이용한 layer 구현"
   ]
  },
  {
   "cell_type": "code",
   "execution_count": null,
   "metadata": {
    "collapsed": true
   },
   "outputs": [],
   "source": [
    "import tensorflow as tf\n",
    "tf.reset_default_graph()\n",
    "features = tf.constant([[1.,2.,3.],\n",
    "                        [2.,3.,4.],\n",
    "                        [3.,4.,5.]])\n",
    "\n",
    "with tf.variable_scope('dense_2', reuse=tf.AUTO_REUSE):\n",
    "    dense_2 = tf.layers.Dense(2, kernel_initializer=tf.initializers.ones(), activation=tf.nn.sigmoid)(features)\n",
    "\n",
    "with tf.Session() as sess:\n",
    "    sess.run(tf.global_variables_initializer())\n",
    "    print(sess.run(dense_2))\n",
    "\n",
    "print(tf.get_collection(tf.GraphKeys.TRAINABLE_VARIABLES, scope='dense_2'))"
   ]
  },
  {
   "cell_type": "markdown",
   "metadata": {},
   "source": [
    "#### tf.layers.function을 이용한 layer 구현 (deprecated)\n",
    "<img src=\"./img/angry_dev.png\" alt=\"angry_dev\" width=\"500\" align=\"left\"/>"
   ]
  },
  {
   "cell_type": "code",
   "execution_count": null,
   "metadata": {
    "collapsed": true
   },
   "outputs": [],
   "source": [
    "import tensorflow as tf\n",
    "tf.reset_default_graph()\n",
    "features = tf.constant([[1.,2.,3.],\n",
    "                        [2.,3.,4.],\n",
    "                        [3.,4.,5.]])\n",
    "\n",
    "with tf.variable_scope('dense_3', reuse=tf.AUTO_REUSE):\n",
    "    dense_3 = tf.layers.dense(features, 2, kernel_initializer=tf.initializers.ones(), activation=tf.nn.sigmoid)\n",
    "\n",
    "with tf.Session() as sess:\n",
    "    sess.run(tf.global_variables_initializer())\n",
    "    print(sess.run(dense_3))\n",
    "\n",
    "print(tf.get_collection(tf.GraphKeys.TRAINABLE_VARIABLES, scope='dense_3'))"
   ]
  },
  {
   "cell_type": "markdown",
   "metadata": {},
   "source": [
    "### Dataset\n",
    "\n",
    "shuffle()  \n",
    "repeat()  \n",
    "batch()  "
   ]
  },
  {
   "cell_type": "code",
   "execution_count": null,
   "metadata": {
    "collapsed": true
   },
   "outputs": [],
   "source": [
    "import tensorflow as tf\n",
    "tf.reset_default_graph()\n",
    "features = tf.constant(np.array([i for i in range(100)]).reshape([-1,5]))\n",
    "dataset = tf.data.Dataset.from_tensor_slices(features)\n",
    "batch_dataset = dataset.repeat().batch(5)\n",
    "batch = batch_dataset.make_one_shot_iterator().get_next()\n",
    "sess = tf.Session()\n",
    "print(sess.run(features))"
   ]
  },
  {
   "cell_type": "code",
   "execution_count": null,
   "metadata": {
    "collapsed": true
   },
   "outputs": [],
   "source": [
    "print(sess.run(batch))"
   ]
  },
  {
   "cell_type": "code",
   "execution_count": null,
   "metadata": {
    "collapsed": true
   },
   "outputs": [],
   "source": [
    "sess.close()"
   ]
  }
 ],
 "metadata": {
  "kernelspec": {
   "display_name": "Python 3",
   "language": "python",
   "name": "python3"
  },
  "language_info": {
   "codemirror_mode": {
    "name": "ipython",
    "version": 3
   },
   "file_extension": ".py",
   "mimetype": "text/x-python",
   "name": "python",
   "nbconvert_exporter": "python",
   "pygments_lexer": "ipython3",
   "version": "3.5.2"
  },
  "varInspector": {
   "cols": {
    "lenName": 16,
    "lenType": 16,
    "lenVar": 40
   },
   "kernels_config": {
    "python": {
     "delete_cmd_postfix": "",
     "delete_cmd_prefix": "del ",
     "library": "var_list.py",
     "varRefreshCmd": "print(var_dic_list())"
    },
    "r": {
     "delete_cmd_postfix": ") ",
     "delete_cmd_prefix": "rm(",
     "library": "var_list.r",
     "varRefreshCmd": "cat(var_dic_list()) "
    }
   },
   "types_to_exclude": [
    "module",
    "function",
    "builtin_function_or_method",
    "instance",
    "_Feature"
   ],
   "window_display": false
  }
 },
 "nbformat": 4,
 "nbformat_minor": 2
}
