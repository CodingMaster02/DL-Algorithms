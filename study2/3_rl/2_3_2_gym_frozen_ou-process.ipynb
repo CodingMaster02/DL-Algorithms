{
 "cells": [
  {
   "cell_type": "code",
   "execution_count": null,
   "metadata": {},
   "outputs": [],
   "source": [
    "import gym\n",
    "import numpy as np\n",
    "import matplotlib.pyplot as plt \n",
    "from gym.envs.registration import register\n",
    "import random as pr"
   ]
  },
  {
   "cell_type": "code",
   "execution_count": null,
   "metadata": {},
   "outputs": [],
   "source": [
    "env = gym.make('FrozenLake-v0')\n",
    "learning_rate = 0.85\n",
    "dis = .99\n",
    "num_episodes = 2000"
   ]
  },
  {
   "cell_type": "code",
   "execution_count": null,
   "metadata": {},
   "outputs": [],
   "source": [
    "Q = np.zeros([env.observation_space.n, env.action_space.n])\n",
    "rList = []"
   ]
  },
  {
   "cell_type": "markdown",
   "metadata": {},
   "source": [
    "## Exploration Strategy\n",
    "###  Ornstein-Uhlenbeck Process\n",
    "$a_t = \\underset{a}{\\operatorname{argmax}Q(s,a)}+\\mathcal{N}_t$\n",
    "- greedy한 action에 gaussian distribution으로 샘플링한 random noise를 섞은 값을 선택하는 policy\n",
    "- action space가 discrete한 경우 잘 쓰이지 않으며, continuous action에 대하여 자주 쓰임"
   ]
  },
  {
   "cell_type": "code",
   "execution_count": null,
   "metadata": {},
   "outputs": [],
   "source": [
    "for i in range(num_episodes):\n",
    "    state = env.reset()\n",
    "    rAll = 0\n",
    "    done = False\n",
    "    \n",
    "    while not done:\n",
    "        action = np.argmax(Q[state, :]+ np.random.randn(1, env.action_space.n)/(i + 1))\n",
    "        new_state, reward, done, _ = env.step(action)\n",
    "        Q[state, action] = (1-learning_rate) * Q[state, action] + learning_rate*(reward + dis*np.max(Q[new_state, :]))\n",
    "        rAll += reward\n",
    "        state = new_state\n",
    "\n",
    "    rList.append(rAll)\n",
    "    "
   ]
  },
  {
   "cell_type": "code",
   "execution_count": null,
   "metadata": {},
   "outputs": [],
   "source": [
    "print('성공율: ', str(sum(rList)/num_episodes))\n",
    "print('Q-table')\n",
    "print(Q)\n",
    "plt.bar(range(len(rList)), rList, color = 'blue')\n",
    "plt.show()"
   ]
  },
  {
   "cell_type": "code",
   "execution_count": null,
   "metadata": {},
   "outputs": [],
   "source": []
  }
 ],
 "metadata": {
  "kernelspec": {
   "display_name": "Python 3",
   "language": "python",
   "name": "python3"
  },
  "language_info": {
   "codemirror_mode": {
    "name": "ipython",
    "version": 3
   },
   "file_extension": ".py",
   "mimetype": "text/x-python",
   "name": "python",
   "nbconvert_exporter": "python",
   "pygments_lexer": "ipython3",
   "version": "3.6.5"
  }
 },
 "nbformat": 4,
 "nbformat_minor": 2
}
