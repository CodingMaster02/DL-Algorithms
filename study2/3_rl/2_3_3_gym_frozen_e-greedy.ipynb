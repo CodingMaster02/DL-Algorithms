{
 "cells": [
  {
   "cell_type": "code",
   "execution_count": null,
   "metadata": {},
   "outputs": [],
   "source": [
    "import gym\n",
    "import numpy as np\n",
    "import matplotlib.pyplot as plt \n",
    "from gym.envs.registration import register\n",
    "import random as pr"
   ]
  },
  {
   "cell_type": "code",
   "execution_count": null,
   "metadata": {},
   "outputs": [],
   "source": [
    "env = gym.make('FrozenLake-v0')\n",
    "learning_rate = 0.85\n",
    "dis = .99\n",
    "num_episodes = 2000"
   ]
  },
  {
   "cell_type": "code",
   "execution_count": null,
   "metadata": {},
   "outputs": [],
   "source": [
    "Q = np.zeros([env.observation_space.n, env.action_space.n])\n",
    "rList = []"
   ]
  },
  {
   "cell_type": "markdown",
   "metadata": {},
   "source": [
    "## Exploration Strategy\n",
    "###  $\\epsilon$ - greedy\n",
    "$a_t = \\underset{a}{\\operatorname{argmax}Q(s,a)}$ (with probability $1 - \\epsilon$)  \n",
    "$a_t = \\mathcal{N}_t$ (with probability $\\epsilon$)  \n",
    "- $\\epsilon$의 확률로 random action을 취해 exploration을 진행\n",
    "- action space가 continuous한 경우 잘 쓰이지 않으며, discrete action에 대하여 자주 쓰임\n"
   ]
  },
  {
   "cell_type": "code",
   "execution_count": null,
   "metadata": {},
   "outputs": [],
   "source": [
    "for i in range(num_episodes):\n",
    "    # env 리셋\n",
    "    state = env.reset()\n",
    "    rAll = 0\n",
    "    done = False\n",
    "    \n",
    "    e = 1./((i//100)+1) # decaying E-greedy\n",
    "    \n",
    "    # Q-테이블 알고리즘\n",
    "    while not done:\n",
    "        # egreedy에 의한 행동 설정\n",
    "        if np.random.rand(1) < e:\n",
    "            action = env.action_space.sample()\n",
    "        else:\n",
    "            action = np.argmax(Q[state, :])\n",
    "\n",
    "        # new_state, reward 업데이트 \n",
    "        new_state, reward, done, _ = env.step(action)\n",
    "        \n",
    "        # 업데이트 Q-table (상태, 행동)\n",
    "        Q[state, action] = (1-learning_rate) * Q[state, action] + learning_rate*(reward + dis*np.max(Q[new_state, :]))\n",
    "        \n",
    "        rAll += reward\n",
    "        state = new_state\n",
    "\n",
    "    rList.append(rAll)\n"
   ]
  },
  {
   "cell_type": "code",
   "execution_count": null,
   "metadata": {},
   "outputs": [],
   "source": [
    "print('성공율: ', str(sum(rList)/num_episodes))\n",
    "print('Q-table')\n",
    "print(Q)\n",
    "plt.bar(range(len(rList)), rList, color = 'blue')\n",
    "plt.show()"
   ]
  },
  {
   "cell_type": "code",
   "execution_count": null,
   "metadata": {},
   "outputs": [],
   "source": []
  }
 ],
 "metadata": {
  "kernelspec": {
   "display_name": "Python 3",
   "language": "python",
   "name": "python3"
  },
  "language_info": {
   "codemirror_mode": {
    "name": "ipython",
    "version": 3
   },
   "file_extension": ".py",
   "mimetype": "text/x-python",
   "name": "python",
   "nbconvert_exporter": "python",
   "pygments_lexer": "ipython3",
   "version": "3.6.5"
  }
 },
 "nbformat": 4,
 "nbformat_minor": 2
}
