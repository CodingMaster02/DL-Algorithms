{
 "cells": [
  {
   "cell_type": "markdown",
   "metadata": {},
   "source": [
    "# 1-2 Variational AutoEncoder\n",
    "\n",
    "<img src=\"./img/vae.png\" alt=\"variationalautoencoder\" width=\"500\" align=\"left\"/>"
   ]
  },
  {
   "cell_type": "markdown",
   "metadata": {},
   "source": [
    "### 모듈 임포트\n",
    "\n",
    "- os (디렉토리 생성)\n",
    "- tensorflow (학습)\n",
    "- numpy (랜덤데이터 플로팅)\n",
    "- matplotlib.pyplot (플로팅)\n",
    "- matplotlib.gridspec (플로팅)"
   ]
  },
  {
   "cell_type": "code",
   "execution_count": 1,
   "metadata": {},
   "outputs": [],
   "source": [
    "import os\n",
    "import tensorflow as tf\n",
    "import numpy as np\n",
    "from matplotlib import pyplot as plt\n",
    "from matplotlib import gridspec as gridspec"
   ]
  },
  {
   "cell_type": "markdown",
   "metadata": {},
   "source": [
    "### Logging Directory 설정"
   ]
  },
  {
   "cell_type": "code",
   "execution_count": 2,
   "metadata": {},
   "outputs": [],
   "source": [
    "CKPT_DIR = \"../generated_output/VAE\""
   ]
  },
  {
   "cell_type": "markdown",
   "metadata": {},
   "source": [
    "### 학습 변수 설정\n",
    "\n",
    "- learning rate : gradient descent시 적용할 학습률\n",
    "- training steps : training 종료조건\n",
    "- batch size : 1 step에 feed forward할 배치 크기\n",
    "\n",
    "- 1 step에 batch size만큼의 데이터를 feed forward하기 때문에, step * batch size = feed forward된 데이터 샘플수\n",
    "- 1 epoch은 총 sample수를 사용하여 학습한 것을 의미하므로, feed forward된 sample수 / 데이터 sample수 = epoch수"
   ]
  },
  {
   "cell_type": "code",
   "execution_count": 3,
   "metadata": {},
   "outputs": [],
   "source": [
    "LEARNING_RATE = 1e-4\n",
    "TRAINING_STEPS = 120000\n",
    "BATCH_SIZE = 100"
   ]
  },
  {
   "cell_type": "markdown",
   "metadata": {},
   "source": [
    "### 네트워크 변수 설정\n",
    "\n",
    "- image dimension : 이미지 차원, MNIST가 28x28이므로 총 784차원의 벡터\n",
    "- latent dimension : 임베딩할 차원\n",
    "- encoder hidden dimension : 인코더 파트의 은닉층 차원\n",
    "- decoder hidden dimension : 디코더 파트의 은닉층 차원"
   ]
  },
  {
   "cell_type": "code",
   "execution_count": 4,
   "metadata": {},
   "outputs": [],
   "source": [
    "IMAGE_DIM = 784\n",
    "LATENT_DIM = 10\n",
    "ENCODER_HIDDEN_DIM = 256\n",
    "DECODER_HIDDEN_DIM = 256\n",
    "graph = tf.Graph()"
   ]
  },
  {
   "cell_type": "markdown",
   "metadata": {},
   "source": [
    "### Encoder 함수 정의\n",
    "\n",
    "[batch_size, 784]\n",
    "\n",
    "$\\rightarrow$ Dense(784, 256) $\\rightarrow$ relu $\\rightarrow$ [batch_size, 256]\n",
    "\n",
    "$\\rightarrow$ 2 x Dense(256, 10) $\\rightarrow$ 2 x [batch_size, 10]\n",
    "\n",
    "#### Initialization 구현\n",
    "\n",
    "shape = [784, 256]일 때, 이에 대한 weight initialization 구현법  \n",
    "(실용 코드에서는 tensorflow. initializers에 함수로 구현되어, 호출만 하면 됨)\n",
    "\n",
    "1. Lecun initialization\n",
    "\n",
    "> tf.random_normal(shape=[shape], stddev=tf.sqrt(1. / (shape[0]))\n",
    "\n",
    "2. Glorot initialization\n",
    "\n",
    "> tf.random_normal(shape=[shape], stddev=tf.sqrt(2. / (shape[0] + shape[1])))\n",
    "\n",
    "3. He initialization\n",
    "\n",
    "> tf.random_normal(shape=[shape], stddev=tf.sqrt(2. / shape[0]))\n"
   ]
  },
  {
   "cell_type": "code",
   "execution_count": 5,
   "metadata": {},
   "outputs": [],
   "source": [
    "def encoder_model(features):\n",
    "    \n",
    "    with tf.variable_scope('encoder', reuse=tf.AUTO_REUSE):\n",
    "        \n",
    "        net = features\n",
    "        \n",
    "        net = tf.layers.dense(\n",
    "            net, ENCODER_HIDDEN_DIM, \n",
    "            activation=tf.nn.relu, \n",
    "            kernel_initializer=tf.initializers.he_normal())\n",
    "        # tf.layers.dense(input, output dim)\n",
    "        # 반복문을 통해 hidden dimension 리스트 형태로 hidden layer 구성\n",
    "        # hidden layer의 activation function은 relu를 씀 (gradient vanishing 방지)\n",
    "        # initializer은 he initialization을 씀 (relu에 최적화, stddev = sqrt(2/fan_in))            \n",
    "            \n",
    "        latent_mean = tf.layers.dense(\n",
    "            net, LATENT_DIM, \n",
    "            kernel_initializer=tf.initializers.he_normal())\n",
    "        # latent의 mean으로의 embedding\n",
    "        \n",
    "        latent_log_var = tf.layers.dense(\n",
    "            net, LATENT_DIM, \n",
    "            kernel_initializer=tf.initializers.he_normal())\n",
    "        # latent의 stddev으로의 embedding (계산 편의상 stddev대신 log variance를 이용)\n",
    "        \n",
    "        return latent_mean, latent_log_var\n",
    "        # latent의 mean과 stddev(log variance) embedding tensor 리턴"
   ]
  },
  {
   "cell_type": "markdown",
   "metadata": {},
   "source": [
    "### Sampling 함수 정의\n",
    "\n",
    "- encoding하여 얻은 mean과 stddev(log variance)를 이용하여 random sampling하는 함수 정의 \n",
    "\n",
    "2 x [batch_size, 10] $\\rightarrow$ [batch_size, 10]"
   ]
  },
  {
   "cell_type": "code",
   "execution_count": 6,
   "metadata": {},
   "outputs": [],
   "source": [
    "def sampler_model(latent_mean, latent_log_var):\n",
    "    \n",
    "    with tf.variable_scope('sampler', reuse=tf.AUTO_REUSE):\n",
    "        \n",
    "        snd_sample = tf.random_normal(\n",
    "            tf.shape(latent_log_var), dtype=tf.float32, \n",
    "            mean=0., stddev=1.0)\n",
    "        # latent 차원의 표준정규분포 샘플링\n",
    "        \n",
    "        latent_std = tf.exp(latent_log_var / 2)\n",
    "        # log variance를 통하여 stddev계산\n",
    "        \n",
    "        latent = latent_mean + latent_std * snd_sample\n",
    "        # 표준정규분포를 latent mean, latent stddev에 해당하는 샘플로 변환\n",
    "        # tf.random_normal이 mean, stddev로서 단일값 혹은 0-D tensor을 받기 때문에 이런 식으로 샘플링\n",
    "        \n",
    "        return latent\n",
    "        # 샘플링 된 gaussian distribution형태의 latent 리턴"
   ]
  },
  {
   "cell_type": "markdown",
   "metadata": {},
   "source": [
    "### Decoder 함수 정의\n",
    "\n",
    "[batch_size, 10]\n",
    "\n",
    "$\\rightarrow$ Dense(128, 256) $\\rightarrow$ relu $\\rightarrow$ [batch_size, 256]\n",
    "\n",
    "$\\rightarrow$ Dense(256, 784) $\\rightarrow$ sigmoid $\\rightarrow$ [batch_size, 784]"
   ]
  },
  {
   "cell_type": "code",
   "execution_count": 7,
   "metadata": {},
   "outputs": [],
   "source": [
    "def decoder_model(features):\n",
    "    \n",
    "    with tf.variable_scope('decoder', reuse=tf.AUTO_REUSE):\n",
    "        \n",
    "        net = features\n",
    "        \n",
    "        net = tf.layers.dense(\n",
    "            net, DECODER_HIDDEN_DIM, \n",
    "            activation=tf.nn.relu, \n",
    "            kernel_initializer=tf.initializers.he_normal())\n",
    "        # tf.layers.dense(input, output dim)\n",
    "        # 반복문을 통해 hidden dimension 리스트 형태로 hidden layer 구성\n",
    "        # hidden layer의 activation function은 relu를 씀 (gradient vanishing 방지)\n",
    "        # initializer은 he initialization을 씀 (relu에 최적화, stddev = sqrt(2/fan_in))\n",
    "            \n",
    "        recon = tf.layers.dense(\n",
    "            net, IMAGE_DIM, \n",
    "            activation=tf.nn.sigmoid, \n",
    "            kernel_initializer=tf.initializers.he_normal())\n",
    "        # output layer\n",
    "        # output layer의 activation function은 sigmoid를 씀 (0~1로 mapping)\n",
    "        \n",
    "        return recon\n",
    "        # output layer을 거친 tensor을 리턴"
   ]
  },
  {
   "cell_type": "markdown",
   "metadata": {},
   "source": [
    "### Input Function 정의\n",
    "\n",
    "feature\n",
    "\n",
    "$\\rightarrow$ Dataset 생성 $\\rightarrow$ 데이터 사이즈로 랜덤 셔플링 $\\rightarrow$ 데이터 모두 소모시 처음부터 반복\n",
    "\n",
    "$\\rightarrow$ batch 생성 $\\rightarrow$ batch 한 개씩 소모하는 iterator $\\rightarrow$ iterator 호출"
   ]
  },
  {
   "cell_type": "code",
   "execution_count": 8,
   "metadata": {},
   "outputs": [],
   "source": [
    "def train_input_fn(features, batch_size=BATCH_SIZE):\n",
    "    \n",
    "    with graph.as_default():\n",
    "        \n",
    "        dataset = tf.data.Dataset.from_tensor_slices(features)\n",
    "        # 인풋값으로부터 Dataset객체 생성\n",
    "        batch_dataset = dataset.shuffle(features.shape[0]).repeat().batch(batch_size)\n",
    "        # Dataset 셔플링, 반복, 배치화\n",
    "        return batch_dataset.make_one_shot_iterator().get_next()\n",
    "        # 단일 배치 반복자 리턴"
   ]
  },
  {
   "cell_type": "markdown",
   "metadata": {},
   "source": [
    "<img src=\"./img/vae_recloss.png\" alt=\"vae_recloss\" width=\"400\" align=\"top\"/>\n",
    "<img src=\"./img/vae_regloss.png\" alt=\"vae_regloss\" width=\"450\" align=\"top\"/>"
   ]
  },
  {
   "cell_type": "markdown",
   "metadata": {},
   "source": [
    "### Regularization Loss\n",
    "\n",
    "- 직접 mean을 0으로, stddev를 1로 보내는 loss를 설계할 경우와의 차이\n",
    "    - MSE혹은 cross-entropy를 이용하여 latent 모수를 직접 특정 값으로 보낼 경우\n",
    "        - 레이블에 관계 없이 모든 mean은 0으로 mapping되고, stddev은 1로 mapping됨\n",
    "        - sampling bias를 이용한 random generation 적용 불가\n",
    "    - Distribution의 KL-Divergence를 이용할 경우\n",
    "        - 각각의 mean, stddev은 다양한 값들을 가짐 (물론, 중심점으로부터 멀지는 않음)\n",
    "        - 단, 다양한 mean과 stddev의 데이터가 혼합된 batch embedding은 표준정규분포의 형태가 됨\n",
    "        - 표준정규분포 내부에 데이터 특성에 따라 biased된 정규분포가 존재하는 형태\n",
    "        \n",
    "- 표준정규분포에서의 샘플링시 sampling bias 발생\n",
    "    - 표본평균과 표본표준편차에 따라 특정 특징을 지닌 이미지로 mapping\n",
    "    - 이를 통하여 학습 데이터셋에 포함되어있던 다양한 이미지 생성 가능"
   ]
  },
  {
   "cell_type": "code",
   "execution_count": 9,
   "metadata": {},
   "outputs": [],
   "source": [
    "def vae_loss(features, outputs, latent_mean, latent_log_var):\n",
    "    \n",
    "    rec_loss = tf.reduce_sum(\n",
    "        tf.keras.backend.binary_crossentropy(features, outputs), 1)\n",
    "    # reconstruction loss (cross-entropy btw input image and output image)\n",
    "    # reconstructed image를 원본과 유사하게 하는 역할을 하는 loss\n",
    "\n",
    "    reg_loss = -0.5 * tf.reduce_sum(\n",
    "        1 + latent_log_var \n",
    "        - tf.square(latent_mean) \n",
    "        - tf.exp(latent_log_var), 1)\n",
    "    # regularization loss (KL-Divergence btw latent and N(0,1))\n",
    "    # latent를 표준정규분포에 가깝게 가져가는 역할을 하는 loss\n",
    "    \n",
    "    return tf.reduce_mean(rec_loss + reg_loss)\n",
    "    # reconstruction loss + regularization loss 리턴"
   ]
  },
  {
   "cell_type": "markdown",
   "metadata": {},
   "source": [
    "### Variational AutoEncoder 학습 함수 정의\n",
    "\n",
    "[batch_size, 784]\n",
    "\n",
    "$\\rightarrow$ Dense(784, 256) $\\rightarrow$ relu $\\rightarrow$ [batch_size, 256]\n",
    "\n",
    "$\\rightarrow$ 2 x Dense(256, 10) $\\rightarrow$ 2 x [batch_size, 10]\n",
    "\n",
    "$\\rightarrow$ Gaussian Distribution Sampling $\\rightarrow$ [batch_size, 10]\n",
    "\n",
    "$\\rightarrow$ Dense(128, 256) $\\rightarrow$ relu $\\rightarrow$ [batch_size, 256]\n",
    "\n",
    "$\\rightarrow$ Dense(256, 784) $\\rightarrow$ sigmoid $\\rightarrow$ [batch_size, 784]"
   ]
  },
  {
   "cell_type": "code",
   "execution_count": 10,
   "metadata": {},
   "outputs": [],
   "source": [
    "def train(features):\n",
    "    if not os.path.exists(os.path.dirname(CKPT_DIR)):\n",
    "        os.makedirs(os.path.dirname(CKPT_DIR))\n",
    "    # logging directory 생성\n",
    "\n",
    "    with graph.as_default():\n",
    "        \n",
    "        features = train_input_fn(features)\n",
    "        # feature 받아서 batch로 넘겨주는 그래프 작성\n",
    "        \n",
    "        latent_mean, latent_log_var = encoder_model(features)\n",
    "        # batch를 encoder에 적용하여 latent의 mean과 stddev(log variance)를 추출하는 그래프 작성\n",
    "        \n",
    "        sample = sampler_model(latent_mean, latent_log_var)\n",
    "        # mean과 stddev(log variance)이용하여 샘플링하여 latent를 생성하는 그래프 작성\n",
    "        \n",
    "        outputs = decoder_model(sample)\n",
    "        # latent를 decoder에 적용하여 복원하는 그래프 작성\n",
    "        \n",
    "        loss = vae_loss(features, outputs, latent_mean, latent_log_var)\n",
    "        # loss는 reconstruction loss + regularization loss\n",
    "        \n",
    "        optimizer = tf.train.AdamOptimizer(LEARNING_RATE).minimize(loss)\n",
    "        # backpropagation operation 정의\n",
    "        # optimizer은 ADAM 적용, 설정한 learning rate 적용\n",
    "        \n",
    "        saver = tf.train.Saver()\n",
    "        # checkpoint 저장할 Saver객체 생성\n",
    "        \n",
    "        with tf.Session() as sess:\n",
    "        # Session객체 생성, 컨텍스트 매니저로 자원 관리\n",
    "            \n",
    "            sess.run(tf.global_variables_initializer())\n",
    "            # weight 초기화\n",
    "\n",
    "            for step in range(TRAINING_STEPS):\n",
    "                \n",
    "                step += 1\n",
    "                                \n",
    "                loss_now, _ = sess.run([loss, optimizer])\n",
    "                # feedforward, backpropagation 실행\n",
    "                # Plotting할 embedding assigning operation도 같이 실행\n",
    "                # 한 번의 run을 통해 실행해야 batch iterator가 한 번만 실행됨에 유의\n",
    "                \n",
    "                if (step == TRAINING_STEPS):    \n",
    "                    saver.save(sess, CKPT_DIR + '/vae.ckpt')\n",
    "                    # 학습된 weights에 대한 checkpoint 저장\n",
    "                    \n",
    "                if (step % 1000 == 0):\n",
    "                    print('steps: {}/{}, loss: {:.4f}'.format(step, TRAINING_STEPS, loss_now))\n",
    "                    # 학습과정 로깅"
   ]
  },
  {
   "cell_type": "markdown",
   "metadata": {},
   "source": [
    "### MNIST 데이터 로드 및 전처리\n",
    "- MNIST 데이터 로드\n",
    "- normalize\n",
    "- flatten"
   ]
  },
  {
   "cell_type": "code",
   "execution_count": 11,
   "metadata": {},
   "outputs": [],
   "source": [
    "(x_train, y_train), (x_test, _) = tf.keras.datasets.fashion_mnist.load_data()\n",
    "# MNIST 데이터 로드 (keras.datesets 모듈 이용)\n",
    "\n",
    "x_train = x_train / 255.\n",
    "x_test = x_test / 255.\n",
    "# MNIST 데이터 normalize (0~1로 mapping)\n",
    "\n",
    "x_train = x_train.reshape([-1, IMAGE_DIM]).astype(np.float32)\n",
    "x_test = x_test.reshape([-1, IMAGE_DIM]).astype(np.float32)\n",
    "# MNIST 데이터 vectorization"
   ]
  },
  {
   "cell_type": "markdown",
   "metadata": {},
   "source": [
    "### Variational AutoEncoder 학습"
   ]
  },
  {
   "cell_type": "code",
   "execution_count": 12,
   "metadata": {},
   "outputs": [
    {
     "name": "stdout",
     "output_type": "stream",
     "text": [
      "WARNING:tensorflow:From <ipython-input-5-dac801f4ec9c>:10: dense (from tensorflow.python.layers.core) is deprecated and will be removed in a future version.\n",
      "Instructions for updating:\n",
      "Use keras.layers.dense instead.\n",
      "WARNING:tensorflow:From /home/multi/multicamp/lib/python3.5/site-packages/tensorflow/python/framework/op_def_library.py:263: colocate_with (from tensorflow.python.framework.ops) is deprecated and will be removed in a future version.\n",
      "Instructions for updating:\n",
      "Colocations handled automatically by placer.\n",
      "WARNING:tensorflow:From /home/multi/multicamp/lib/python3.5/site-packages/tensorflow/python/ops/math_ops.py:3066: to_int32 (from tensorflow.python.ops.math_ops) is deprecated and will be removed in a future version.\n",
      "Instructions for updating:\n",
      "Use tf.cast instead.\n",
      "steps: 1000/120000, loss: 292.6351\n",
      "steps: 2000/120000, loss: 269.1596\n",
      "steps: 3000/120000, loss: 266.1043\n",
      "steps: 4000/120000, loss: 252.4497\n",
      "steps: 5000/120000, loss: 259.8517\n",
      "steps: 6000/120000, loss: 254.5124\n",
      "steps: 7000/120000, loss: 254.1913\n",
      "steps: 8000/120000, loss: 249.5095\n",
      "steps: 9000/120000, loss: 243.8705\n",
      "steps: 10000/120000, loss: 258.1328\n",
      "steps: 11000/120000, loss: 251.7663\n",
      "steps: 12000/120000, loss: 253.8621\n",
      "steps: 13000/120000, loss: 252.0259\n",
      "steps: 14000/120000, loss: 247.9882\n",
      "steps: 15000/120000, loss: 253.0422\n",
      "steps: 16000/120000, loss: 235.1831\n",
      "steps: 17000/120000, loss: 243.0165\n",
      "steps: 18000/120000, loss: 253.1216\n",
      "steps: 19000/120000, loss: 247.6761\n",
      "steps: 20000/120000, loss: 244.2005\n",
      "steps: 21000/120000, loss: 246.1107\n",
      "steps: 22000/120000, loss: 254.2730\n",
      "steps: 23000/120000, loss: 259.0997\n",
      "steps: 24000/120000, loss: 247.6164\n",
      "steps: 25000/120000, loss: 246.9566\n",
      "steps: 26000/120000, loss: 253.4446\n",
      "steps: 27000/120000, loss: 248.7578\n",
      "steps: 28000/120000, loss: 239.6202\n",
      "steps: 29000/120000, loss: 253.2747\n",
      "steps: 30000/120000, loss: 250.5280\n",
      "steps: 31000/120000, loss: 245.2574\n",
      "steps: 32000/120000, loss: 238.3760\n",
      "steps: 33000/120000, loss: 262.7419\n",
      "steps: 34000/120000, loss: 247.0434\n",
      "steps: 35000/120000, loss: 246.5800\n",
      "steps: 36000/120000, loss: 238.8792\n",
      "steps: 37000/120000, loss: 252.6725\n",
      "steps: 38000/120000, loss: 242.2300\n",
      "steps: 39000/120000, loss: 238.6010\n",
      "steps: 40000/120000, loss: 230.3858\n",
      "steps: 41000/120000, loss: 248.3153\n",
      "steps: 42000/120000, loss: 251.0482\n",
      "steps: 43000/120000, loss: 246.1062\n",
      "steps: 44000/120000, loss: 233.5649\n",
      "steps: 45000/120000, loss: 249.7073\n",
      "steps: 46000/120000, loss: 234.8115\n",
      "steps: 47000/120000, loss: 236.6058\n",
      "steps: 48000/120000, loss: 240.8472\n",
      "steps: 49000/120000, loss: 240.5669\n",
      "steps: 50000/120000, loss: 249.6866\n",
      "steps: 51000/120000, loss: 231.3944\n",
      "steps: 52000/120000, loss: 243.4247\n",
      "steps: 53000/120000, loss: 247.6116\n",
      "steps: 54000/120000, loss: 236.5868\n",
      "steps: 55000/120000, loss: 235.4495\n",
      "steps: 56000/120000, loss: 236.7165\n",
      "steps: 57000/120000, loss: 246.5957\n",
      "steps: 58000/120000, loss: 252.3858\n",
      "steps: 59000/120000, loss: 241.0340\n",
      "steps: 60000/120000, loss: 252.7698\n",
      "steps: 61000/120000, loss: 249.7388\n",
      "steps: 62000/120000, loss: 236.2061\n",
      "steps: 63000/120000, loss: 243.3309\n",
      "steps: 64000/120000, loss: 244.1641\n",
      "steps: 65000/120000, loss: 239.7541\n",
      "steps: 66000/120000, loss: 236.8658\n",
      "steps: 67000/120000, loss: 245.5640\n",
      "steps: 68000/120000, loss: 249.1643\n",
      "steps: 69000/120000, loss: 226.5689\n",
      "steps: 70000/120000, loss: 253.4727\n",
      "steps: 71000/120000, loss: 242.7995\n",
      "steps: 72000/120000, loss: 249.7831\n",
      "steps: 73000/120000, loss: 246.4955\n",
      "steps: 74000/120000, loss: 229.3972\n",
      "steps: 75000/120000, loss: 226.7844\n",
      "steps: 76000/120000, loss: 247.7615\n",
      "steps: 77000/120000, loss: 238.8733\n",
      "steps: 78000/120000, loss: 236.6032\n",
      "steps: 79000/120000, loss: 224.2645\n",
      "steps: 80000/120000, loss: 246.5517\n",
      "steps: 81000/120000, loss: 227.5168\n",
      "steps: 82000/120000, loss: 242.3733\n",
      "steps: 83000/120000, loss: 239.7311\n",
      "steps: 84000/120000, loss: 233.6788\n",
      "steps: 85000/120000, loss: 230.8914\n",
      "steps: 86000/120000, loss: 234.7686\n",
      "steps: 87000/120000, loss: 234.7757\n",
      "steps: 88000/120000, loss: 241.8554\n",
      "steps: 89000/120000, loss: 232.0288\n",
      "steps: 90000/120000, loss: 236.9549\n",
      "steps: 91000/120000, loss: 232.0353\n",
      "steps: 92000/120000, loss: 241.2089\n",
      "steps: 93000/120000, loss: 238.6792\n",
      "steps: 94000/120000, loss: 235.8015\n",
      "steps: 95000/120000, loss: 236.2242\n",
      "steps: 96000/120000, loss: 231.2984\n",
      "steps: 97000/120000, loss: 239.5368\n",
      "steps: 98000/120000, loss: 246.1660\n",
      "steps: 99000/120000, loss: 241.1776\n",
      "steps: 100000/120000, loss: 223.7560\n",
      "steps: 101000/120000, loss: 251.9559\n",
      "steps: 102000/120000, loss: 252.4978\n",
      "steps: 103000/120000, loss: 253.4346\n",
      "steps: 104000/120000, loss: 228.6597\n",
      "steps: 105000/120000, loss: 242.5504\n",
      "steps: 106000/120000, loss: 240.3876\n",
      "steps: 107000/120000, loss: 243.4480\n",
      "steps: 108000/120000, loss: 241.4158\n",
      "steps: 109000/120000, loss: 240.0681\n",
      "steps: 110000/120000, loss: 240.1586\n",
      "steps: 111000/120000, loss: 259.4981\n",
      "steps: 112000/120000, loss: 239.8621\n",
      "steps: 113000/120000, loss: 229.0868\n",
      "steps: 114000/120000, loss: 244.2250\n",
      "steps: 115000/120000, loss: 246.0725\n",
      "steps: 116000/120000, loss: 233.5197\n",
      "steps: 117000/120000, loss: 236.3956\n",
      "steps: 118000/120000, loss: 247.9205\n",
      "steps: 119000/120000, loss: 239.3782\n",
      "steps: 120000/120000, loss: 236.1925\n"
     ]
    }
   ],
   "source": [
    "train(x_train)"
   ]
  },
  {
   "cell_type": "markdown",
   "metadata": {},
   "source": [
    "### Reconstruction Plotting 함수 정의"
   ]
  },
  {
   "cell_type": "code",
   "execution_count": 16,
   "metadata": {},
   "outputs": [],
   "source": [
    "def recon_25_image_plot(features):\n",
    "    \n",
    "    with graph.as_default():\n",
    "        \n",
    "        dataset = tf.data.Dataset.from_tensor_slices(features)\n",
    "        batch_dataset = dataset.batch(25)\n",
    "        features = batch_dataset.make_one_shot_iterator().get_next()\n",
    "        # plotting batch 생성\n",
    "        \n",
    "        latent_mean, latent_log_var = encoder_model(features)\n",
    "        # vector을 encoder에 적용하여 latent 추출\n",
    "        latents = sampler_model(latent_mean, latent_log_var)\n",
    "        recon = decoder_model(latents)\n",
    "        # latent를 decoder에 적용하여 복원\n",
    "        \n",
    "        fig = plt.figure(figsize=(10, 10))\n",
    "        gs = gridspec.GridSpec(5, 5)\n",
    "        gs.update(wspace=0.05)\n",
    "        # 플로팅 사이즈, 배열, 간격 정의\n",
    "        \n",
    "        saver = tf.train.Saver()\n",
    "        # weight restoring 진행할 Saver 객체 생성\n",
    "        \n",
    "        with tf.Session() as sess:\n",
    "            \n",
    "            saver.restore(sess, tf.train.latest_checkpoint(CKPT_DIR))\n",
    "            # checkpoint로부터 weight 복원\n",
    "            \n",
    "            recon_image = sess.run(recon)\n",
    "            # reconstruction operation 진행\n",
    "            \n",
    "            recon_image = recon_image.reshape([-1, 28, 28])\n",
    "            # tensorization\n",
    "            \n",
    "            for i in range(25):\n",
    "                plt.subplot(gs[i])\n",
    "                plt.axis('off')\n",
    "                plt.imshow(recon_image[i], cmap = 'gray')\n",
    "            # reconstructed image plotting"
   ]
  },
  {
   "cell_type": "markdown",
   "metadata": {},
   "source": [
    "### Original Image Plotting 함수 정의"
   ]
  },
  {
   "cell_type": "code",
   "execution_count": 17,
   "metadata": {},
   "outputs": [],
   "source": [
    "def origin_25_image_plot(features):\n",
    "    features = features.reshape([-1, 28, 28])\n",
    "    fig = plt.figure(figsize=(10, 10))\n",
    "    gs = gridspec.GridSpec(5, 5)\n",
    "    gs.update(wspace=0.05)\n",
    "    for i in range(25):\n",
    "        plt.subplot(gs[i])\n",
    "        plt.axis('off')\n",
    "        plt.imshow(features[i], cmap = 'gray')"
   ]
  },
  {
   "cell_type": "markdown",
   "metadata": {},
   "source": [
    "### Reconstruction Plot"
   ]
  },
  {
   "cell_type": "code",
   "execution_count": 18,
   "metadata": {},
   "outputs": [
    {
     "name": "stdout",
     "output_type": "stream",
     "text": [
      "WARNING:tensorflow:From /home/multi/multicamp/lib/python3.5/site-packages/tensorflow/python/training/saver.py:1266: checkpoint_exists (from tensorflow.python.training.checkpoint_management) is deprecated and will be removed in a future version.\n",
      "Instructions for updating:\n",
      "Use standard file APIs to check for files with this prefix.\n",
      "INFO:tensorflow:Restoring parameters from ../generated_output/VAE/vae.ckpt\n"
     ]
    },
    {
     "data": {
      "image/png": "[encoded data removed]",
      "text/plain": [
       "<Figure size 720x720 with 25 Axes>"
      ]
     },
     "metadata": {
      "needs_background": "light"
     },
     "output_type": "display_data"
    },
    {
     "data": {
      "image/png": "[encoded data removed]",
      "text/plain": [
       "<Figure size 720x720 with 25 Axes>"
      ]
     },
     "metadata": {
      "needs_background": "light"
     },
     "output_type": "display_data"
    }
   ],
   "source": [
    "recon_25_image_plot(x_test[:25])\n",
    "origin_25_image_plot(x_test[:25])"
   ]
  },
  {
   "cell_type": "markdown",
   "metadata": {},
   "source": [
    "### Random Plotting 함수 정의"
   ]
  },
  {
   "cell_type": "code",
   "execution_count": null,
   "metadata": {},
   "outputs": [],
   "source": [
    "def random_25_image_plot(seed=None):\n",
    "    \n",
    "    with graph.as_default():\n",
    "        \n",
    "        np.random.seed(seed)\n",
    "        random_noise = np.random.normal(size=[25, LATENT_DIM]).astype(np.float32)\n",
    "        # latent 형태의 random noise 생성\n",
    "        \n",
    "        random_noise_input = train_input_fn(random_noise, batch_size=25)\n",
    "        # random noise tensor 생성\n",
    "        \n",
    "        random_gen = decoder_model(random_noise_input)\n",
    "        # random noise를 decoder에 적용, MNIST image 차원으로 임베딩\n",
    "\n",
    "        fig = plt.figure(figsize=(10, 10))\n",
    "        gs = gridspec.GridSpec(5, 5)\n",
    "        gs.update(wspace=0.05)\n",
    "        # 플로팅 사이즈, 배열, 간격 정의\n",
    "\n",
    "        saver = tf.train.Saver()\n",
    "        # weight restoring 진행할 Saver 객체 생성\n",
    "        \n",
    "        with tf.Session() as sess:\n",
    "            \n",
    "            saver.restore(sess, tf.train.latest_checkpoint(CKPT_DIR))\n",
    "            # checkpoint로부터 weight 복원\n",
    "            \n",
    "            random_image = sess.run(random_gen)\n",
    "            # random generation operation 진행\n",
    "            \n",
    "            random_image = random_image.reshape([-1, 28, 28])\n",
    "            # tensorization\n",
    "            \n",
    "            for i in range(25):\n",
    "                plt.subplot(gs[i])\n",
    "                plt.axis('off')\n",
    "                plt.imshow(random_image[i], cmap = 'gray')\n",
    "            # plotting"
   ]
  },
  {
   "cell_type": "markdown",
   "metadata": {},
   "source": [
    "### Random Plot"
   ]
  },
  {
   "cell_type": "code",
   "execution_count": null,
   "metadata": {},
   "outputs": [],
   "source": [
    "random_25_image_plot()"
   ]
  }
 ],
 "metadata": {
  "kernelspec": {
   "display_name": "Python 3",
   "language": "python",
   "name": "python3"
  },
  "language_info": {
   "codemirror_mode": {
    "name": "ipython",
    "version": 3
   },
   "file_extension": ".py",
   "mimetype": "text/x-python",
   "name": "python",
   "nbconvert_exporter": "python",
   "pygments_lexer": "ipython3",
   "version": "3.5.2"
  },
  "varInspector": {
   "cols": {
    "lenName": 16,
    "lenType": 16,
    "lenVar": 40
   },
   "kernels_config": {
    "python": {
     "delete_cmd_postfix": "",
     "delete_cmd_prefix": "del ",
     "library": "var_list.py",
     "varRefreshCmd": "print(var_dic_list())"
    },
    "r": {
     "delete_cmd_postfix": ") ",
     "delete_cmd_prefix": "rm(",
     "library": "var_list.r",
     "varRefreshCmd": "cat(var_dic_list()) "
    }
   },
   "types_to_exclude": [
    "module",
    "function",
    "builtin_function_or_method",
    "instance",
    "_Feature"
   ],
   "window_display": false
  }
 },
 "nbformat": 4,
 "nbformat_minor": 2
}
