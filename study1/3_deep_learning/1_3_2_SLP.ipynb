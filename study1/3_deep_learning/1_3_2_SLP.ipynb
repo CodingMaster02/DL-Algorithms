{
 "cells": [
  {
   "cell_type": "markdown",
   "metadata": {},
   "source": [
    "## 1. Single Layer Perceptron"
   ]
  },
  {
   "cell_type": "markdown",
   "metadata": {},
   "source": [
    " ### 1) import modules"
   ]
  },
  {
   "cell_type": "code",
   "execution_count": null,
   "metadata": {},
   "outputs": [],
   "source": [
    "import tensorflow as tf\n",
    "import numpy as np\n",
    "from tensorflow.examples.tutorials.mnist import input_data"
   ]
  },
  {
   "cell_type": "markdown",
   "metadata": {},
   "source": [
    " ### 2) define placeholder for INPUT & LABELS"
   ]
  },
  {
   "cell_type": "code",
   "execution_count": null,
   "metadata": {},
   "outputs": [],
   "source": [
    "INPUT = tf.placeholder(tf.float32, [None, 784])\n",
    "LABELS = tf.placeholder(tf.int32, [None])"
   ]
  },
  {
   "cell_type": "markdown",
   "metadata": {},
   "source": [
    "### 3) define slp model with single_layer_percentorn function\n",
    "\n",
    "<img src=\"./images/slp_r.png\" alt=\"slp model\" width=\"800\" align=\"left\"/>"
   ]
  },
  {
   "cell_type": "code",
   "execution_count": null,
   "metadata": {},
   "outputs": [],
   "source": [
    "def single_layer_perceptron(input, input_dim=None, output_dim=None):\n",
    "    weight = tf.Variable(\n",
    "        tf.truncated_normal([input_dim, output_dim], stddev=0.5),\n",
    "        name=\"weight\"\n",
    "    )\n",
    "    bias = tf.Variable(\n",
    "        tf.random_normal([output_dim]), \n",
    "        name=\"bias\"\n",
    "    )\n",
    "    output = tf.add(tf.matmul(input, weight), bias)\n",
    "    return output"
   ]
  },
  {
   "cell_type": "markdown",
   "metadata": {},
   "source": [
    "### 4) define computational graph"
   ]
  },
  {
   "cell_type": "code",
   "execution_count": null,
   "metadata": {},
   "outputs": [],
   "source": [
    "logits = single_layer_perceptron(INPUT, input_dim=784, output_dim=10)\n",
    "prediction = tf.nn.softmax(logits)\n",
    "cross_entropy = tf.nn.sparse_softmax_cross_entropy_with_logits(\n",
    "    logits=logits, labels=LABELS,\n",
    ")\n",
    "cost = tf.reduce_mean(cross_entropy)\n",
    "optimizer = tf.train.GradientDescentOptimizer(0.01).minimize(cost)"
   ]
  },
  {
   "cell_type": "markdown",
   "metadata": {},
   "source": [
    "### 5) load data"
   ]
  },
  {
   "cell_type": "code",
   "execution_count": null,
   "metadata": {},
   "outputs": [],
   "source": [
    "mnist = input_data.read_data_sets(\"./data/\", one_hot=True)"
   ]
  },
  {
   "cell_type": "markdown",
   "metadata": {},
   "source": [
    "### 6) start training\n",
    "   #### - set training parameters : batch size, total loop"
   ]
  },
  {
   "cell_type": "code",
   "execution_count": null,
   "metadata": {},
   "outputs": [],
   "source": [
    "BATCH_SIZE = 100\n",
    "TOTAL_LOOP = 10000"
   ]
  },
  {
   "cell_type": "markdown",
   "metadata": {},
   "source": [
    " - arrA = [[0,0,0,0,1],[0,1,0,0,0]]\n",
    " - np.where(arrA) => ([0,1], [4,1])\n",
    " - ref) https://docs.scipy.org/doc/numpy-1.15.1/reference/generated/numpy.where.html?highlight=numpy%20where#numpy.where"
   ]
  },
  {
   "cell_type": "code",
   "execution_count": null,
   "metadata": {},
   "outputs": [],
   "source": [
    "sess = tf.Session()\n",
    "sess.run(tf.global_variables_initializer())\n",
    "\n",
    "for loop in range(1, TOTAL_LOOP + 1):\n",
    "    \n",
    "    train_images, train_labels = mnist.train.next_batch(BATCH_SIZE)\n",
    "    train_labels = np.where(train_labels)[1]\n",
    "        \n",
    "    _, loss = sess.run(\n",
    "        [optimizer, cost],\n",
    "        feed_dict={\n",
    "            INPUT: train_images, \n",
    "            LABELS: train_labels\n",
    "        }\n",
    "    )\n",
    "    \n",
    "    if loop % 500 == 0 or loop == 0:\n",
    "        print(\"loop: %05d,\"%(loop), \"loss:\", loss)\n",
    "\n",
    "print(\"Training Finished! (loss : \" + str(loss) + \")\")"
   ]
  },
  {
   "cell_type": "markdown",
   "metadata": {},
   "source": [
    "### [understanding argmax, where function]\n",
    "<img src=\"./images/argmax_where.png\" alt=\"argmax_where\" width=\"700\" align=\"left\"/>"
   ]
  },
  {
   "cell_type": "markdown",
   "metadata": {},
   "source": [
    "### 7) test performance\n",
    "\n",
    " - test image shape: (10000, 784)\n",
    " - test label shape: (10000, 10) \n",
    " \n",
    "\n",
    " - arrB = [[0, 1, 2],[3, 4, 5]]\n",
    " - np.argmax(arrB) => 5\n",
    " - np.argmax(arrB, axis=0) => [1, 1, 1]\n",
    " - np.argmax(arrB, axis=1) => [2, 2]\n",
    " - ref) https://docs.scipy.org/doc/numpy-1.15.1/reference/generated/numpy.argmax.html\n",
    " "
   ]
  },
  {
   "cell_type": "code",
   "execution_count": null,
   "metadata": {},
   "outputs": [],
   "source": [
    "pred_result = sess.run(\n",
    "    prediction, \n",
    "    feed_dict={INPUT: mnist.test.images}\n",
    ")\n",
    "pred_number = np.argmax(pred_result, axis=1)\n",
    "label_number = np.where(mnist.test.labels)[1]\n",
    "\n",
    "print(\"Test Accuracy:\", 100*np.mean(pred_number == label_number))\n",
    "sess.close()"
   ]
  }
 ],
 "metadata": {
  "kernelspec": {
   "display_name": "Python 3",
   "language": "python",
   "name": "python3"
  },
  "language_info": {
   "codemirror_mode": {
    "name": "ipython",
    "version": 3
   },
   "file_extension": ".py",
   "mimetype": "text/x-python",
   "name": "python",
   "nbconvert_exporter": "python",
   "pygments_lexer": "ipython3",
   "version": "3.5.2"
  },
  "varInspector": {
   "cols": {
    "lenName": 16,
    "lenType": 16,
    "lenVar": 40
   },
   "kernels_config": {
    "python": {
     "delete_cmd_postfix": "",
     "delete_cmd_prefix": "del ",
     "library": "var_list.py",
     "varRefreshCmd": "print(var_dic_list())"
    },
    "r": {
     "delete_cmd_postfix": ") ",
     "delete_cmd_prefix": "rm(",
     "library": "var_list.r",
     "varRefreshCmd": "cat(var_dic_list()) "
    }
   },
   "types_to_exclude": [
    "module",
    "function",
    "builtin_function_or_method",
    "instance",
    "_Feature"
   ],
   "window_display": false
  }
 },
 "nbformat": 4,
 "nbformat_minor": 2
}
