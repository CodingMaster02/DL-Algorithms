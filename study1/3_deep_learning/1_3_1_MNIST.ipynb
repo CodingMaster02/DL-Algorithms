{
 "cells": [
  {
   "cell_type": "code",
   "execution_count": null,
   "metadata": {
    "scrolled": true
   },
   "outputs": [],
   "source": [
    "import tensorflow as tf\n",
    "import numpy as np\n",
    "from matplotlib import pyplot as plt\n",
    "from tensorflow.examples.tutorials.mnist import input_data"
   ]
  },
  {
   "cell_type": "code",
   "execution_count": null,
   "metadata": {},
   "outputs": [],
   "source": [
    "mnist = input_data.read_data_sets(\"./data/\", one_hot=True)"
   ]
  },
  {
   "cell_type": "markdown",
   "metadata": {},
   "source": [
    "### Dataset size"
   ]
  },
  {
   "cell_type": "code",
   "execution_count": null,
   "metadata": {},
   "outputs": [],
   "source": [
    "print('total train data : ' + str(mnist.train.labels.shape[0]))\n",
    "print('total test data : ' + str(mnist.test.labels.shape[0]))"
   ]
  },
  {
   "cell_type": "markdown",
   "metadata": {},
   "source": [
    "### A sample from input datset\n",
    "#### - `[0., .., 0.4, 0.4, 0.3, 0.5, 0.2, 0.,  0.,  0.,  0., ..., 0. ]` with dim : 764"
   ]
  },
  {
   "cell_type": "code",
   "execution_count": null,
   "metadata": {
    "scrolled": false
   },
   "outputs": [],
   "source": [
    "print(\"input: \")\n",
    "print(np.round(mnist.train.images[0],1))\n",
    "print(\"input shape: \", mnist.train.images[0].shape)"
   ]
  },
  {
   "cell_type": "markdown",
   "metadata": {},
   "source": [
    "### A sample from label dataset\n",
    "#### - `[0. 0. 0. 0. 0. 0. 0. 1. 0. 0.]` with dim : 10"
   ]
  },
  {
   "cell_type": "code",
   "execution_count": null,
   "metadata": {},
   "outputs": [],
   "source": [
    "print(\"label:\", mnist.train.labels[0])\n",
    "print(\"class:\", np.argmax(mnist.train.labels[0]))\n",
    "print(\"label shape:\", mnist.train.labels[0].shape)"
   ]
  },
  {
   "cell_type": "code",
   "execution_count": null,
   "metadata": {},
   "outputs": [],
   "source": [
    "# 필기체 숫자 10개 출력\n",
    "print('label:')\n",
    "for i in range(10):\n",
    "    print('%d ' % (np.where(mnist.train.labels[i])[0]), end=\"\")\n",
    "print()\n",
    "\n",
    "plt.figure(figsize=(12,12))\n",
    "for i in range(10):\n",
    "    plt.subplot(1, 10, i+1)\n",
    "    plt.imshow(mnist.train.images[i].reshape(28,28), cmap='Greys')\n",
    "    plt.axis('off')\n",
    "plt.show()\n",
    "plt.close()"
   ]
  }
 ],
 "metadata": {
  "kernelspec": {
   "display_name": "Python 3",
   "language": "python",
   "name": "python3"
  },
  "language_info": {
   "codemirror_mode": {
    "name": "ipython",
    "version": 3
   },
   "file_extension": ".py",
   "mimetype": "text/x-python",
   "name": "python",
   "nbconvert_exporter": "python",
   "pygments_lexer": "ipython3",
   "version": "3.5.2"
  }
 },
 "nbformat": 4,
 "nbformat_minor": 2
}
