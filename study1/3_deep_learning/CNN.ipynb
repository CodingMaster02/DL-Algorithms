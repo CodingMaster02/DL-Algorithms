{
 "cells": [
  {
   "cell_type": "markdown",
   "metadata": {},
   "source": [
    "## 3. Convolutional Nueral Network"
   ]
  },
  {
   "cell_type": "markdown",
   "metadata": {},
   "source": [
    " ### 1) import modules"
   ]
  },
  {
   "cell_type": "code",
   "execution_count": 1,
   "metadata": {},
   "outputs": [],
   "source": [
    "import tensorflow as tf\n",
    "import numpy as np\n",
    "from matplotlib import pyplot as plt\n",
    "from tensorflow.examples.tutorials.mnist import input_data"
   ]
  },
  {
   "cell_type": "markdown",
   "metadata": {},
   "source": [
    " ### 2) define placeholder for INPUT & LABELS"
   ]
  },
  {
   "cell_type": "code",
   "execution_count": 2,
   "metadata": {},
   "outputs": [],
   "source": [
    "INPUT = tf.placeholder(tf.float32, [None, 784])\n",
    "LABELS = tf.placeholder(tf.int32, [None])"
   ]
  },
  {
   "cell_type": "markdown",
   "metadata": {},
   "source": [
    "### 3) define cnn model\n",
    "\n",
    "<img src=\"./images/cnn.png\" alt=\"slp model\" width=\"1000\" align=\"left\"/>"
   ]
  },
  {
   "cell_type": "markdown",
   "metadata": {},
   "source": [
    "###  understanding convolution ##"
   ]
  },
  {
   "cell_type": "markdown",
   "metadata": {},
   "source": [
    "<img src=\"./images/conv2d.png\" alt=\"conv2d\" width=\"800\" align=\"left\"/>\n",
    "<img src=\"./images/conv2d_2.png\" alt=\"conv2d\" width=\"800\" align=\"left\"/>"
   ]
  },
  {
   "cell_type": "markdown",
   "metadata": {},
   "source": [
    "####  - define convolutional_neural_network function with tf.nn.conv2d, tf.nn.max_pool, tf.nn.tanh"
   ]
  },
  {
   "cell_type": "code",
   "execution_count": 3,
   "metadata": {},
   "outputs": [],
   "source": [
    "def convolutional_neural_network(input, output_dim=None):\n",
    "    image = tf.reshape(input, [-1, 28, 28, 1]) #batch_size x height x width x channel\n",
    "\n",
    "    # Conv layer1\n",
    "    # Filter가 Weight 역활을 함\n",
    "    W_conv1 = tf.Variable(tf.truncated_normal([5, 5, 1, 20], stddev=0.1))\n",
    "    b_conv1 = tf.Variable(tf.zeros([20]))\n",
    "    h_conv1 = tf.nn.conv2d(\n",
    "            image, \n",
    "            W_conv1, \n",
    "            strides=[1, 1, 1, 1], \n",
    "            padding='SAME') + b_conv1 # batch_sizex28x28x20\n",
    "    fmap_conv1 = tf.nn.tanh(h_conv1)\n",
    "\n",
    "    # Pooling(Max) layer1\n",
    "    # k_size = [one_image, height, width, one_channel]\n",
    "    h_pool1 = tf.nn.max_pool(\n",
    "        fmap_conv1, \n",
    "        ksize=[1, 2, 2, 1], \n",
    "        strides=[1, 2, 2, 1], \n",
    "        padding='SAME'\n",
    "    ) # batch_sizex14x14x20\n",
    "\n",
    "    # Conv layer2\n",
    "    # Filter가 Weight 역활을 함\n",
    "    W_conv2 = tf.Variable(tf.truncated_normal([5, 5, 20, 50], stddev=0.1))\n",
    "    b_conv2 = tf.Variable(tf.zeros([50]))\n",
    "    h_conv2 = tf.nn.conv2d(\n",
    "        h_pool1, \n",
    "        W_conv2, \n",
    "        strides=[1, 1, 1, 1], \n",
    "        padding='SAME') + b_conv2 # batch_sizex14x14x50\n",
    "    fmap_conv2 = tf.nn.tanh(h_conv2)\n",
    "\n",
    "    # Pooling(Max) layer2\n",
    "    h_pool2 = tf.nn.max_pool(\n",
    "        fmap_conv2, \n",
    "        ksize=[1, 2, 2, 1], \n",
    "        strides=[1, 2, 2, 1], \n",
    "        padding='SAME'\n",
    "    ) # batch_sizex7x7x50\n",
    "    h_pool2_flat = tf.reshape(h_pool2, [-1, 2450])  # batch_sizex(2450=7*7*50)\n",
    "    \n",
    "    # fully-connected layer1\n",
    "    W_fc1 = tf.Variable(tf.truncated_normal([2450, 500], stddev=0.1))\n",
    "    b_fc1 = tf.Variable(tf.zeros([500]))\n",
    "    h_fc1 = tf.nn.tanh(tf.matmul(h_pool2_flat, W_fc1) + b_fc1) # batch_sizex500\n",
    "\n",
    "    # fully-connected layer2\n",
    "    W_fc2 = tf.Variable(tf.truncated_normal([500, output_dim], stddev=0.1))\n",
    "    b_fc2 = tf.Variable(tf.zeros([output_dim]))\n",
    "    output = tf.matmul(h_fc1, W_fc2) + b_fc2 #batch_sizex10\n",
    "\n",
    "    return output"
   ]
  },
  {
   "cell_type": "markdown",
   "metadata": {},
   "source": [
    "### 4) define computational graph"
   ]
  },
  {
   "cell_type": "code",
   "execution_count": 4,
   "metadata": {},
   "outputs": [],
   "source": [
    "logits = convolutional_neural_network(INPUT, output_dim=10)\n",
    "prediction = tf.nn.softmax(logits)\n",
    "cross_entropy = tf.nn.sparse_softmax_cross_entropy_with_logits(\n",
    "    labels=LABELS, logits=logits\n",
    ")\n",
    "cost = tf.reduce_mean(cross_entropy)\n",
    "optimizer = tf.train.GradientDescentOptimizer(0.01).minimize(cost)"
   ]
  },
  {
   "cell_type": "markdown",
   "metadata": {},
   "source": [
    "### 5) load data"
   ]
  },
  {
   "cell_type": "code",
   "execution_count": 5,
   "metadata": {},
   "outputs": [
    {
     "name": "stdout",
     "output_type": "stream",
     "text": [
      "WARNING:tensorflow:From <ipython-input-5-f659c5e1ce47>:1: read_data_sets (from tensorflow.contrib.learn.python.learn.datasets.mnist) is deprecated and will be removed in a future version.\n",
      "Instructions for updating:\n",
      "Please use alternatives such as official/mnist/dataset.py from tensorflow/models.\n",
      "WARNING:tensorflow:From /Users/ton/aidentify/ai_env/lib/python3.6/site-packages/tensorflow/contrib/learn/python/learn/datasets/mnist.py:260: maybe_download (from tensorflow.contrib.learn.python.learn.datasets.base) is deprecated and will be removed in a future version.\n",
      "Instructions for updating:\n",
      "Please write your own downloading logic.\n",
      "WARNING:tensorflow:From /Users/ton/aidentify/ai_env/lib/python3.6/site-packages/tensorflow/contrib/learn/python/learn/datasets/mnist.py:262: extract_images (from tensorflow.contrib.learn.python.learn.datasets.mnist) is deprecated and will be removed in a future version.\n",
      "Instructions for updating:\n",
      "Please use tf.data to implement this functionality.\n",
      "Extracting ./data/train-images-idx3-ubyte.gz\n",
      "WARNING:tensorflow:From /Users/ton/aidentify/ai_env/lib/python3.6/site-packages/tensorflow/contrib/learn/python/learn/datasets/mnist.py:267: extract_labels (from tensorflow.contrib.learn.python.learn.datasets.mnist) is deprecated and will be removed in a future version.\n",
      "Instructions for updating:\n",
      "Please use tf.data to implement this functionality.\n",
      "Extracting ./data/train-labels-idx1-ubyte.gz\n",
      "WARNING:tensorflow:From /Users/ton/aidentify/ai_env/lib/python3.6/site-packages/tensorflow/contrib/learn/python/learn/datasets/mnist.py:110: dense_to_one_hot (from tensorflow.contrib.learn.python.learn.datasets.mnist) is deprecated and will be removed in a future version.\n",
      "Instructions for updating:\n",
      "Please use tf.one_hot on tensors.\n",
      "Extracting ./data/t10k-images-idx3-ubyte.gz\n",
      "Extracting ./data/t10k-labels-idx1-ubyte.gz\n",
      "WARNING:tensorflow:From /Users/ton/aidentify/ai_env/lib/python3.6/site-packages/tensorflow/contrib/learn/python/learn/datasets/mnist.py:290: DataSet.__init__ (from tensorflow.contrib.learn.python.learn.datasets.mnist) is deprecated and will be removed in a future version.\n",
      "Instructions for updating:\n",
      "Please use alternatives such as official/mnist/dataset.py from tensorflow/models.\n"
     ]
    }
   ],
   "source": [
    "mnist = input_data.read_data_sets(\"./data/\", one_hot=True)"
   ]
  },
  {
   "cell_type": "markdown",
   "metadata": {},
   "source": [
    "### 6) start training\n",
    "   #### - set training parameters : batch size, total loop"
   ]
  },
  {
   "cell_type": "code",
   "execution_count": 6,
   "metadata": {},
   "outputs": [],
   "source": [
    "BATCH_SIZE = 100\n",
    "TOTAL_LOOP = 10000"
   ]
  },
  {
   "cell_type": "markdown",
   "metadata": {},
   "source": [
    " - arrA = [[0,0,0,0,1],[0,1,0,0,0]]\n",
    " - np.where(arrA) => ([0,1], [4,1])\n",
    " - ref) https://docs.scipy.org/doc/numpy-1.15.1/reference/generated/numpy.where.html?highlight=numpy%20where#numpy.where"
   ]
  },
  {
   "cell_type": "code",
   "execution_count": 7,
   "metadata": {},
   "outputs": [
    {
     "name": "stdout",
     "output_type": "stream",
     "text": [
      "loop: 00500, loss: 0.2690411\n",
      "loop: 01000, loss: 0.24095076\n",
      "loop: 01500, loss: 0.23393078\n",
      "loop: 02000, loss: 0.1767907\n",
      "loop: 02500, loss: 0.14063485\n",
      "loop: 03000, loss: 0.14819191\n",
      "loop: 03500, loss: 0.083298095\n",
      "loop: 04000, loss: 0.09189237\n",
      "loop: 04500, loss: 0.11554107\n",
      "loop: 05000, loss: 0.15248106\n",
      "loop: 05500, loss: 0.06879229\n",
      "loop: 06000, loss: 0.08341271\n",
      "loop: 06500, loss: 0.12126176\n",
      "loop: 07000, loss: 0.052808806\n",
      "loop: 07500, loss: 0.038673032\n",
      "loop: 08000, loss: 0.049559455\n",
      "loop: 08500, loss: 0.06827713\n",
      "loop: 09000, loss: 0.028423809\n",
      "loop: 09500, loss: 0.04403933\n",
      "loop: 10000, loss: 0.050582036\n",
      "Training Finished! (loss : 0.050582036)\n"
     ]
    }
   ],
   "source": [
    "sess = tf.Session()\n",
    "sess.run(tf.global_variables_initializer())\n",
    "\n",
    "for loop in range(1, TOTAL_LOOP + 1):\n",
    "    \n",
    "    train_images, train_labels = mnist.train \\\n",
    "                                      .next_batch(BATCH_SIZE)\n",
    "    train_labels = np.where(train_labels)[1]\n",
    "        \n",
    "    _, loss = sess.run(\n",
    "        [optimizer, cost],\n",
    "        feed_dict={\n",
    "            INPUT: train_images, \n",
    "            LABELS: train_labels\n",
    "        }\n",
    "    )\n",
    "    \n",
    "    if loop % 500 == 0 or loop == 0:\n",
    "        print(\"loop: %05d,\"%(loop), \"loss:\", loss)\n",
    "\n",
    "print(\"Training Finished! (loss : \" + str(loss) + \")\")"
   ]
  },
  {
   "cell_type": "markdown",
   "metadata": {},
   "source": [
    "### 7) test performance\n",
    "\n",
    " - test image shape: (10000, 784)\n",
    " - test label shape: (10000, 10) \n",
    " \n",
    "\n",
    " - arrB = [[0, 1, 2],[3, 4, 5]]\n",
    " - np.argmax(arrB) => 5\n",
    " - np.argmax(arrB, axis=0) => [1, 1, 1]\n",
    " - np.argmax(arrB, axis=1) => [2, 2]\n",
    " - ref) https://docs.scipy.org/doc/numpy-1.15.1/reference/generated/numpy.argmax.html\n",
    " "
   ]
  },
  {
   "cell_type": "code",
   "execution_count": 9,
   "metadata": {},
   "outputs": [
    {
     "name": "stdout",
     "output_type": "stream",
     "text": [
      "Test Accuracy: 98.34\n"
     ]
    }
   ],
   "source": [
    "pred_result = sess.run(\n",
    "    prediction, \n",
    "    feed_dict={INPUT: mnist.test.images}\n",
    ")\n",
    "pred_number = np.argmax(pred_result, axis=1)\n",
    "label_number = np.where(mnist.test.labels)[1]\n",
    "\n",
    "print(\"Test Accuracy:\", 100*np.mean(pred_number == label_number))\n"
   ]
  },
  {
   "cell_type": "markdown",
   "metadata": {},
   "source": [
    "### 8) error"
   ]
  },
  {
   "cell_type": "code",
   "execution_count": 12,
   "metadata": {},
   "outputs": [
    {
     "name": "stdout",
     "output_type": "stream",
     "text": [
      "(166, 28, 28)\n"
     ]
    },
    {
     "data": {
      "image/png": "[encoded data removed]",
      "text/plain": [
       "<Figure size 720x720 with 25 Axes>"
      ]
     },
     "metadata": {
      "needs_background": "light"
     },
     "output_type": "display_data"
    }
   ],
   "source": [
    "fault_idx = pred_number != label_number\n",
    "fault_image = mnist.test.images[fault_idx].reshape([-1,28,28])\n",
    "fault_pred = pred_number[fault_idx]\n",
    "fault_label = label_number[fault_idx]\n",
    "\n",
    "print(fault_image.shape)\n",
    "\n",
    "from matplotlib import pyplot as plt\n",
    "from matplotlib import gridspec as gridspec\n",
    "\n",
    "fig = plt.figure(figsize=(10, 10))\n",
    "gs = gridspec.GridSpec(5, 5)\n",
    "gs.update(wspace=0.05)\n",
    "\n",
    "for i in range(25):\n",
    "    plt.subplot(gs[i])\n",
    "    plt.axis('off')\n",
    "    plt.imshow(fault_image[i], cmap = 'gray')\n",
    "    plt.text(3,30,\"pred:{}  label:{}\".format(fault_pred[i], fault_label[i]))\n",
    "    \n",
    "sess.close()"
   ]
  }
 ],
 "metadata": {
  "kernelspec": {
   "display_name": "Python 3",
   "language": "python",
   "name": "python3"
  },
  "language_info": {
   "codemirror_mode": {
    "name": "ipython",
    "version": 3
   },
   "file_extension": ".py",
   "mimetype": "text/x-python",
   "name": "python",
   "nbconvert_exporter": "python",
   "pygments_lexer": "ipython3",
   "version": "3.6.5"
  }
 },
 "nbformat": 4,
 "nbformat_minor": 2
}
